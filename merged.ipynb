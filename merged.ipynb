{
 "cells": [
  {
   "cell_type": "markdown",
   "id": "b81bd5c8",
   "metadata": {},
   "source": [
    "## 01 - Introduction To NumPY"
   ]
  },
  {
   "cell_type": "markdown",
   "id": "7b2087ea",
   "metadata": {},
   "source": [
    "---\n",
    "Importing NumPY"
   ]
  },
  {
   "cell_type": "code",
   "execution_count": 1,
   "id": "8217c99f",
   "metadata": {},
   "outputs": [],
   "source": [
    "import numpy as np"
   ]
  },
  {
   "cell_type": "markdown",
   "id": "94989f15",
   "metadata": {},
   "source": [
    "---\n",
    "### Initialization of Array in NumPY\n",
    "From Python Lists"
   ]
  },
  {
   "cell_type": "code",
   "execution_count": 2,
   "id": "30001615",
   "metadata": {},
   "outputs": [
    {
     "name": "stdout",
     "output_type": "stream",
     "text": [
      "[1 2 3]\n"
     ]
    }
   ],
   "source": [
    "arr = np.array([1, 2, 3])\n",
    "print(arr)"
   ]
  },
  {
   "cell_type": "markdown",
   "id": "36010489",
   "metadata": {},
   "source": [
    "---\n",
    "Array with Evenly Spaced Numbers\n",
    "\n",
    "Syntax -> numpy.linspace(start, stop, num = 50, endpoint = True, retstep = False, dtype = None, axis = 0)"
   ]
  },
  {
   "cell_type": "code",
   "execution_count": 3,
   "id": "7d9966b0",
   "metadata": {},
   "outputs": [
    {
     "name": "stdout",
     "output_type": "stream",
     "text": [
      "[ 3.5   6.75 10.  ]\n"
     ]
    }
   ],
   "source": [
    "arr = np.linspace(3.5, 10, 3, dtype = np.float64)\n",
    "print(arr)"
   ]
  },
  {
   "cell_type": "markdown",
   "id": "647cc713",
   "metadata": {},
   "source": [
    "---\n",
    "Array with Garbage Value"
   ]
  },
  {
   "cell_type": "code",
   "execution_count": 4,
   "id": "1c8d7154",
   "metadata": {},
   "outputs": [
    {
     "name": "stdout",
     "output_type": "stream",
     "text": [
      "[[1918990176 1701996900 2037669920]\n",
      " [1735289198 2037150819 1735289200]\n",
      " [1635200627 1919885356 1885692974]\n",
      " [ 543190642 1702065440 1633903986]]\n"
     ]
    }
   ],
   "source": [
    "arr = np.empty([4, 3], dtype = np.int32, order = 'f')\n",
    "print(arr)"
   ]
  },
  {
   "cell_type": "markdown",
   "id": "03241c29",
   "metadata": {},
   "source": [
    "---\n",
    "Array with Zeros"
   ]
  },
  {
   "cell_type": "code",
   "execution_count": 5,
   "id": "92d19242",
   "metadata": {},
   "outputs": [
    {
     "name": "stdout",
     "output_type": "stream",
     "text": [
      "[[0 0 0]\n",
      " [0 0 0]]\n"
     ]
    }
   ],
   "source": [
    "arr = np.zeros([2, 3], dtype = np.int32, order = 'f') # [Dimension of Array]\n",
    "print(arr)"
   ]
  },
  {
   "cell_type": "markdown",
   "id": "201b8134",
   "metadata": {},
   "source": [
    "---\n",
    "Array with Ones"
   ]
  },
  {
   "cell_type": "code",
   "execution_count": 6,
   "id": "48a14f3f",
   "metadata": {},
   "outputs": [
    {
     "name": "stdout",
     "output_type": "stream",
     "text": [
      "[[1 1]\n",
      " [1 1]]\n"
     ]
    }
   ],
   "source": [
    "arr = np.ones((2, 2), dtype = np.int32, order = 'f') # [Dimension of Array]\n",
    "print(arr)"
   ]
  },
  {
   "cell_type": "markdown",
   "id": "5e87f274",
   "metadata": {},
   "source": [
    "---\n",
    "Array with All Values Equal"
   ]
  },
  {
   "cell_type": "code",
   "execution_count": 7,
   "id": "fedc00a6",
   "metadata": {},
   "outputs": [
    {
     "name": "stdout",
     "output_type": "stream",
     "text": [
      "[[7 7]\n",
      " [7 7]]\n"
     ]
    }
   ],
   "source": [
    "arr = np.full((2, 2), 7)\n",
    "print(arr)"
   ]
  },
  {
   "cell_type": "markdown",
   "id": "5756931c",
   "metadata": {},
   "source": [
    "---\n",
    "Array with Range Values"
   ]
  },
  {
   "cell_type": "code",
   "execution_count": 8,
   "id": "ad46d95b",
   "metadata": {},
   "outputs": [
    {
     "name": "stdout",
     "output_type": "stream",
     "text": [
      "[0 2 4 6 8]\n"
     ]
    }
   ],
   "source": [
    "arr = np.arange(0, 10, 2, dtype = np.int64) # (start, end, steps), end is excluded\n",
    "print(arr)"
   ]
  },
  {
   "cell_type": "markdown",
   "id": "3627e3b1",
   "metadata": {},
   "source": [
    "---\n",
    "### Indexing in NumPY"
   ]
  },
  {
   "cell_type": "markdown",
   "id": "bba711c4",
   "metadata": {},
   "source": [
    "In 1D Array"
   ]
  },
  {
   "cell_type": "code",
   "execution_count": 9,
   "id": "285b3727",
   "metadata": {},
   "outputs": [
    {
     "name": "stdout",
     "output_type": "stream",
     "text": [
      "30\n",
      "50\n"
     ]
    }
   ],
   "source": [
    "arr = np.array([10, 20, 30, 40, 50])\n",
    "              #  0,  1,  2,  3,  4\n",
    "              # -5, -4, -3, -2, -1\n",
    "print(arr[2])\n",
    "print(arr[-1])"
   ]
  },
  {
   "cell_type": "markdown",
   "id": "26a50c1b",
   "metadata": {},
   "source": [
    "---\n",
    "In 2D Array"
   ]
  },
  {
   "cell_type": "code",
   "execution_count": 10,
   "id": "75cc40db",
   "metadata": {},
   "outputs": [
    {
     "name": "stdout",
     "output_type": "stream",
     "text": [
      "4\n"
     ]
    }
   ],
   "source": [
    "arr = np.array([[1, 2, 3], [4, 5, 6], [7, 8, 9]])\n",
    "print(arr[1, 0]) # [Row, Column]"
   ]
  },
  {
   "cell_type": "markdown",
   "id": "b28cbee0",
   "metadata": {},
   "source": [
    "---"
   ]
  },
  {
   "cell_type": "code",
   "execution_count": 11,
   "id": "4abe7c48",
   "metadata": {},
   "outputs": [
    {
     "name": "stdout",
     "output_type": "stream",
     "text": [
      "[2 5]\n",
      "[[2]\n",
      " [5]]\n",
      "[[2 3]\n",
      " [5 6]]\n"
     ]
    }
   ],
   "source": [
    "arr = np.array([[1, 2, 3], [4, 5, 6]])\n",
    "\n",
    "# all rows, second column\n",
    "print(arr[:, 1])\n",
    "# [2 5]\n",
    "print(arr[:, [1]])\n",
    "# [[2]\n",
    "#  [5]]\n",
    "\n",
    "# all, rows, second and third column\n",
    "print(arr[:, [1, 2]])\n",
    "# [[2 3]\n",
    "#  [5 6]]"
   ]
  },
  {
   "cell_type": "markdown",
   "id": "2e769928",
   "metadata": {},
   "source": [
    "---\n",
    "[start:stop(excluded):steps]"
   ]
  },
  {
   "cell_type": "code",
   "execution_count": 12,
   "id": "9e17d82a",
   "metadata": {},
   "outputs": [
    {
     "name": "stdout",
     "output_type": "stream",
     "text": [
      "[1 3 5]\n"
     ]
    }
   ],
   "source": [
    "arr = np.array([0, 1, 2, 3, 4, 5])\n",
    "print(arr[1:6:2])"
   ]
  },
  {
   "cell_type": "markdown",
   "id": "dcf44ba6",
   "metadata": {},
   "source": [
    "---"
   ]
  },
  {
   "cell_type": "code",
   "execution_count": 13,
   "id": "a71fc8d8",
   "metadata": {},
   "outputs": [
    {
     "name": "stdout",
     "output_type": "stream",
     "text": [
      "[[0.51074239 0.64768674 0.14243495 0.25669324]\n",
      " [0.30954437 0.86936132 0.79026178 0.57669783]\n",
      " [0.19006706 0.01033631 0.35444351 0.78007071]\n",
      " [0.32919705 0.25411337 0.71051205 0.79168342]]\n"
     ]
    }
   ],
   "source": [
    "arr = np.random.rand(4, 4, 4)\n",
    "print(arr[..., 0])"
   ]
  },
  {
   "cell_type": "markdown",
   "id": "14a7e023",
   "metadata": {},
   "source": [
    "---"
   ]
  },
  {
   "cell_type": "code",
   "execution_count": 14,
   "id": "4cd3af1b",
   "metadata": {},
   "outputs": [
    {
     "name": "stdout",
     "output_type": "stream",
     "text": [
      "[2 4 3]\n",
      "[1 2 0 4 5 3]\n"
     ]
    }
   ],
   "source": [
    "arr = np.array([1, 2, 0, 4, 5, 3])\n",
    "\n",
    "idx = np.array([1, 3, 5])\n",
    "print (arr[idx])\n",
    "\n",
    "print (arr[(arr != 0) | (arr == 0)])"
   ]
  },
  {
   "cell_type": "markdown",
   "id": "ad3372ca",
   "metadata": {},
   "source": [
    "---"
   ]
  },
  {
   "cell_type": "code",
   "execution_count": 15,
   "id": "e76a697a",
   "metadata": {},
   "outputs": [
    {
     "name": "stdout",
     "output_type": "stream",
     "text": [
      "[[1]\n",
      " [2]\n",
      " [3]]\n"
     ]
    }
   ],
   "source": [
    "arr = np.array([1, 2, 3])\n",
    "print(arr[:, np.newaxis])"
   ]
  },
  {
   "cell_type": "markdown",
   "id": "b91e8923",
   "metadata": {},
   "source": [
    "---"
   ]
  },
  {
   "cell_type": "code",
   "execution_count": 16,
   "id": "54e53dbc",
   "metadata": {},
   "outputs": [
    {
     "name": "stdout",
     "output_type": "stream",
     "text": [
      "[ 1 99 99  4]\n"
     ]
    }
   ],
   "source": [
    "arr = np.array([1, 2, 3, 4])\n",
    "arr[1:3] = 99\n",
    "print(arr)"
   ]
  },
  {
   "cell_type": "markdown",
   "id": "cd6fb2e7",
   "metadata": {},
   "source": [
    "---\n",
    "### Arithmetic Operations in NumPY Arrays"
   ]
  },
  {
   "cell_type": "code",
   "execution_count": 17,
   "id": "358b5efd",
   "metadata": {},
   "outputs": [
    {
     "name": "stdout",
     "output_type": "stream",
     "text": [
      "[5 7 9]\n",
      "[-3 -3 -3]\n",
      "[ 4 10 18]\n",
      "[0.25 0.4  0.5 ]\n"
     ]
    }
   ],
   "source": [
    "x = np.array([1, 2, 3])\n",
    "y = np.array([4, 5, 6])\n",
    "\n",
    "print(x + y)\n",
    "print(x - y)\n",
    "print(x * y)\n",
    "print(x / y)"
   ]
  },
  {
   "cell_type": "markdown",
   "id": "7ee53f53",
   "metadata": {},
   "source": [
    "---\n",
    "### Absolute in NumPY"
   ]
  },
  {
   "cell_type": "code",
   "execution_count": 18,
   "id": "10a70d87",
   "metadata": {},
   "outputs": [
    {
     "name": "stdout",
     "output_type": "stream",
     "text": [
      "[3 1 0 1 3]\n"
     ]
    }
   ],
   "source": [
    "arr = np.array([-3, -1, 0, 1, 3])\n",
    "res = np.absolute(arr)\n",
    "\n",
    "print(res)"
   ]
  },
  {
   "cell_type": "markdown",
   "id": "7a2af88c",
   "metadata": {},
   "source": [
    "---\n",
    "### Add in Numpy"
   ]
  },
  {
   "cell_type": "code",
   "execution_count": 19,
   "id": "3cb7bc08",
   "metadata": {},
   "outputs": [
    {
     "name": "stdout",
     "output_type": "stream",
     "text": [
      "[5 7 9]\n"
     ]
    }
   ],
   "source": [
    "arr1 = np.array([1, 2, 3])\n",
    "arr2 = np.array([4, 5, 6])\n",
    "res = np.add(arr1, arr2)\n",
    "\n",
    "print(res)"
   ]
  },
  {
   "cell_type": "markdown",
   "id": "2ba50538",
   "metadata": {},
   "source": [
    "---\n",
    "### Exponentiation in NumPY"
   ]
  },
  {
   "cell_type": "code",
   "execution_count": 20,
   "id": "ff270f20",
   "metadata": {},
   "outputs": [
    {
     "name": "stdout",
     "output_type": "stream",
     "text": [
      "[                 25          1934917632        137858491849\n",
      " 1152921504606846976]\n"
     ]
    }
   ],
   "source": [
    "arr1 = np.array([5, 72, 13, 100])\n",
    "arr2 = np.array([2, 5, 10, 30])\n",
    "\n",
    "res = np.power(arr1, arr2)\n",
    "print(res)"
   ]
  },
  {
   "cell_type": "markdown",
   "id": "f8783a36",
   "metadata": {},
   "source": [
    "---\n",
    "### Modulus in NumPY"
   ]
  },
  {
   "cell_type": "code",
   "execution_count": 21,
   "id": "1bdf0156",
   "metadata": {},
   "outputs": [
    {
     "name": "stdout",
     "output_type": "stream",
     "text": [
      "[ 1  2  3 10]\n"
     ]
    }
   ],
   "source": [
    "arr1 = np.array([5, 72, 13, 100])\n",
    "arr2 = np.array([2, 5, 10, 30])\n",
    "\n",
    "res = np.mod(arr1, arr2)\n",
    "print(res)"
   ]
  },
  {
   "cell_type": "markdown",
   "id": "b9509248",
   "metadata": {},
   "source": [
    "---\n",
    "### Sine / Exponential / Square Root in NumPy"
   ]
  },
  {
   "cell_type": "code",
   "execution_count": 22,
   "id": "ca27194a",
   "metadata": {},
   "outputs": [
    {
     "name": "stdout",
     "output_type": "stream",
     "text": [
      "[0.0000000e+00 1.0000000e+00 1.2246468e-16]\n",
      "[ 1.          4.81047738 23.14069263]\n",
      "[0.         1.25331414 1.77245385]\n"
     ]
    }
   ],
   "source": [
    "a = np.array([0, np.pi/2, np.pi])\n",
    "print(np.sin(a))\n",
    "print(np.exp(a))\n",
    "print(np.sqrt(a))"
   ]
  },
  {
   "cell_type": "markdown",
   "id": "78845ad6",
   "metadata": {},
   "source": [
    "---\n",
    "### Sorting NumPY Arrays"
   ]
  },
  {
   "cell_type": "code",
   "execution_count": 23,
   "id": "87c30be3",
   "metadata": {},
   "outputs": [
    {
     "name": "stdout",
     "output_type": "stream",
     "text": [
      "[(b'Aakash', 2009, 9. ) (b'Ajay', 2008, 8.7) (b'Hrithik', 2009, 8.5)\n",
      " (b'Pankaj', 2008, 7.9)]\n",
      "[(b'Pankaj', 2008, 7.9) (b'Ajay', 2008, 8.7) (b'Hrithik', 2009, 8.5)\n",
      " (b'Aakash', 2009, 9. )]\n"
     ]
    }
   ],
   "source": [
    "dtypes = [('name', 'S10'), ('grad_year', int), ('cgpa', float)]\n",
    "\n",
    "values = [('Hrithik', 2009, 8.5), ('Ajay', 2008, 8.7), \n",
    "          ('Pankaj', 2008, 7.9), ('Aakash', 2009, 9.0)]\n",
    "\n",
    "arr = np.array(values, dtype = dtypes)\n",
    "\n",
    "print (np.sort(arr, order = 'name'))\n",
    "print (np.sort(arr, order = ['grad_year', 'cgpa']))"
   ]
  },
  {
   "cell_type": "markdown",
   "id": "327ac44c",
   "metadata": {},
   "source": [
    "---\n",
    "### Type Of NumPY Arrays"
   ]
  },
  {
   "cell_type": "code",
   "execution_count": 24,
   "id": "8ac78df9",
   "metadata": {},
   "outputs": [
    {
     "name": "stdout",
     "output_type": "stream",
     "text": [
      "<class 'numpy.ndarray'>\n"
     ]
    }
   ],
   "source": [
    "arr = np.array([1, 2, 3])\n",
    "print(type(arr))"
   ]
  },
  {
   "cell_type": "markdown",
   "id": "d2845765",
   "metadata": {},
   "source": [
    "---\n",
    "### Shape / Size / DataType of NumPY Arrays"
   ]
  },
  {
   "cell_type": "code",
   "execution_count": 25,
   "id": "696b6ea3",
   "metadata": {},
   "outputs": [
    {
     "name": "stdout",
     "output_type": "stream",
     "text": [
      "Shape : (2, 3)\n",
      "Size : 6\n",
      "D Type : int64\n"
     ]
    }
   ],
   "source": [
    "arr = np.array([[1, 2, 3], [4, 5, 6]])\n",
    "print(\"Shape :\", arr.shape)\n",
    "print(\"Size :\", arr.size)\n",
    "print(\"D Type :\", arr.dtype)"
   ]
  },
  {
   "cell_type": "markdown",
   "id": "2a2a5eb2",
   "metadata": {},
   "source": [
    "---\n",
    "### Formiter in NumPY"
   ]
  },
  {
   "cell_type": "code",
   "execution_count": 26,
   "id": "df64893d",
   "metadata": {},
   "outputs": [
    {
     "name": "stdout",
     "output_type": "stream",
     "text": [
      "['R' 'a' 'f' 'a' 't' 'A' 'l' 'a' 'm']\n"
     ]
    }
   ],
   "source": [
    "var = \"RafatAlam\"\n",
    "arr = np.fromiter(var, dtype = 'U2')\n",
    "\n",
    "print(arr)"
   ]
  },
  {
   "cell_type": "markdown",
   "id": "7a5f26ab",
   "metadata": {},
   "source": [
    "---\n",
    "### Random In NumPY"
   ]
  },
  {
   "cell_type": "markdown",
   "id": "13b4e938",
   "metadata": {},
   "source": [
    "Fills values with random values between [0, 1)"
   ]
  },
  {
   "cell_type": "code",
   "execution_count": 27,
   "id": "8f4a918c",
   "metadata": {},
   "outputs": [
    {
     "name": "stdout",
     "output_type": "stream",
     "text": [
      "[[0.34219176 0.45606934 0.0546637 ]\n",
      " [0.95455738 0.39679941 0.88735542]]\n"
     ]
    }
   ],
   "source": [
    "arr = np.random.rand(2, 3)\n",
    "print(arr)"
   ]
  },
  {
   "cell_type": "markdown",
   "id": "d053026d",
   "metadata": {},
   "source": [
    "---\n",
    "Fill values with standard Normal Distribution"
   ]
  },
  {
   "cell_type": "code",
   "execution_count": 28,
   "id": "342daa09",
   "metadata": {},
   "outputs": [
    {
     "name": "stdout",
     "output_type": "stream",
     "text": [
      "[[ 0.8348876   0.60801478]\n",
      " [ 1.34418053 -0.14787315]]\n"
     ]
    }
   ],
   "source": [
    "arr = np.random.randn(2, 2)\n",
    "print(arr)"
   ]
  },
  {
   "cell_type": "markdown",
   "id": "3f619fbb",
   "metadata": {},
   "source": [
    "---\n",
    "Fills values with random integers between [a, b)"
   ]
  },
  {
   "cell_type": "code",
   "execution_count": 29,
   "id": "0a1bb66a",
   "metadata": {},
   "outputs": [
    {
     "name": "stdout",
     "output_type": "stream",
     "text": [
      "[[4 1 3]\n",
      " [1 4 9]]\n"
     ]
    }
   ],
   "source": [
    "arr = np.random.randint(1, 10, size = [2, 3])\n",
    "print(arr)"
   ]
  },
  {
   "cell_type": "markdown",
   "id": "e4f7a6cb",
   "metadata": {},
   "source": [
    "---\n",
    "### Matrix creation in NumPY\n",
    "Identity Matrix"
   ]
  },
  {
   "cell_type": "code",
   "execution_count": 30,
   "id": "f3e34789",
   "metadata": {},
   "outputs": [
    {
     "name": "stdout",
     "output_type": "stream",
     "text": [
      "[[1 0 0]\n",
      " [0 1 0]\n",
      " [0 0 1]]\n"
     ]
    }
   ],
   "source": [
    "arr = np.eye(3, dtype = np.int64)\n",
    "print(arr)"
   ]
  },
  {
   "cell_type": "markdown",
   "id": "01ade53d",
   "metadata": {},
   "source": [
    "---\n",
    "Diagonal Matrix"
   ]
  },
  {
   "cell_type": "code",
   "execution_count": 31,
   "id": "ad69feac",
   "metadata": {},
   "outputs": [
    {
     "name": "stdout",
     "output_type": "stream",
     "text": [
      "[[1 0 0]\n",
      " [0 2 0]\n",
      " [0 0 3]]\n"
     ]
    }
   ],
   "source": [
    "arr = np.diag([1, 2, 3])\n",
    "print(arr)"
   ]
  },
  {
   "cell_type": "markdown",
   "id": "b8c4d955",
   "metadata": {},
   "source": [
    "---\n",
    "Zero Array"
   ]
  },
  {
   "cell_type": "code",
   "execution_count": 32,
   "id": "d8f1df67",
   "metadata": {},
   "outputs": [
    {
     "name": "stdout",
     "output_type": "stream",
     "text": [
      "[[0 0 0]\n",
      " [0 0 0]\n",
      " [0 0 0]]\n"
     ]
    }
   ],
   "source": [
    "arr = np.zeros_like(arr) # Pass array it will take shape of that\n",
    "print(arr)"
   ]
  },
  {
   "cell_type": "markdown",
   "id": "09d38d8c",
   "metadata": {},
   "source": [
    "---\n",
    "One's Array"
   ]
  },
  {
   "cell_type": "code",
   "execution_count": 33,
   "id": "f58b7710",
   "metadata": {},
   "outputs": [
    {
     "name": "stdout",
     "output_type": "stream",
     "text": [
      "[[1 1 1]\n",
      " [1 1 1]\n",
      " [1 1 1]]\n"
     ]
    }
   ],
   "source": [
    "arr = np.ones_like(arr) # Pass array it will take shape of that\n",
    "print(arr)"
   ]
  },
  {
   "cell_type": "markdown",
   "id": "744b92bb",
   "metadata": {},
   "source": [
    "---\n",
    "### Reshaping Arrays"
   ]
  },
  {
   "cell_type": "code",
   "execution_count": 34,
   "id": "fe58e842",
   "metadata": {},
   "outputs": [
    {
     "name": "stdout",
     "output_type": "stream",
     "text": [
      "[ 1  2  3  4  5  6  7  8  9 10 11 12 13 14 15 16]\n",
      "[[ 1  2  3  4  5  6  7  8]\n",
      " [ 9 10 11 12 13 14 15 16]]\n",
      "[[ 1  2  3  4]\n",
      " [ 5  6  7  8]\n",
      " [ 9 10 11 12]\n",
      " [13 14 15 16]]\n"
     ]
    }
   ],
   "source": [
    "arr = np.array([1, 2, 3, 4, 5, 6, 7, 8, 9, 10, 11, 12, 13, 14, 15, 16])\n",
    "print(str(arr))\n",
    "\n",
    "res = arr.reshape((2, 8))\n",
    "print(res)\n",
    "res = np.reshape(arr, [4, -1])\n",
    "print(res)"
   ]
  },
  {
   "cell_type": "markdown",
   "id": "fb0e5462",
   "metadata": {},
   "source": [
    "---\n",
    "### Resizing Arrays\n",
    "Permanent Array Reshaping"
   ]
  },
  {
   "cell_type": "code",
   "execution_count": 35,
   "id": "456b128f",
   "metadata": {},
   "outputs": [
    {
     "name": "stdout",
     "output_type": "stream",
     "text": [
      "[[1 2 3]\n",
      " [4 5 6]]\n"
     ]
    }
   ],
   "source": [
    "arr = np.array([1, 2, 3, 4, 5, 6])\n",
    "arr.resize(2, 3)\n",
    "print(arr)"
   ]
  },
  {
   "cell_type": "markdown",
   "id": "b2d2caa9",
   "metadata": {},
   "source": [
    "---"
   ]
  },
  {
   "cell_type": "markdown",
   "id": "2720f211",
   "metadata": {},
   "source": [
    "## 02 - Stacking and Splitting Arrays\n",
    "---\n",
    "\n",
    "Importing NumPY"
   ]
  },
  {
   "cell_type": "code",
   "execution_count": 36,
   "id": "acbdfe14",
   "metadata": {},
   "outputs": [],
   "source": [
    "import numpy as np"
   ]
  },
  {
   "cell_type": "markdown",
   "id": "627a5ae5",
   "metadata": {},
   "source": [
    "---\n",
    "### Stacking 2 [1-D Arrays]"
   ]
  },
  {
   "cell_type": "code",
   "execution_count": 37,
   "id": "a722115c",
   "metadata": {},
   "outputs": [
    {
     "name": "stdout",
     "output_type": "stream",
     "text": [
      "[[1 2 3]\n",
      " [4 5 6]]\n"
     ]
    }
   ],
   "source": [
    "arr1 = np.array([1, 2, 3])\n",
    "arr2 = np.array([4, 5, 6])\n",
    "\n",
    "res = np.stack((arr1, arr2), axis = 0)\n",
    "print(res)"
   ]
  },
  {
   "cell_type": "code",
   "execution_count": 38,
   "id": "d22709c0",
   "metadata": {},
   "outputs": [
    {
     "name": "stdout",
     "output_type": "stream",
     "text": [
      "[[1 4]\n",
      " [2 5]\n",
      " [3 6]]\n"
     ]
    }
   ],
   "source": [
    "res = np.stack((arr1, arr2), axis = 1)\n",
    "print(res)"
   ]
  },
  {
   "cell_type": "code",
   "execution_count": 39,
   "id": "9737b039",
   "metadata": {},
   "outputs": [
    {
     "name": "stdout",
     "output_type": "stream",
     "text": [
      "[[1 4]\n",
      " [2 5]\n",
      " [3 6]]\n"
     ]
    }
   ],
   "source": [
    "res = np.stack((arr1, arr2), axis = -1) # -1 represents 'last dimension-wise'. Here 2 axis are possible. 0 and 1. So, -1 is same as 1.\n",
    "print(res)"
   ]
  },
  {
   "cell_type": "markdown",
   "id": "259efe22",
   "metadata": {},
   "source": [
    "---\n",
    "### Splitting Arrays in NumPY"
   ]
  },
  {
   "cell_type": "code",
   "execution_count": 40,
   "id": "ac4248f2",
   "metadata": {},
   "outputs": [
    {
     "name": "stdout",
     "output_type": "stream",
     "text": [
      "[array([1, 2, 3]), array([4, 5]), array([6, 7])]\n"
     ]
    }
   ],
   "source": [
    "arr = np.array([1, 2, 3, 4, 5, 6, 7])\n",
    "res = np.array_split(arr, 3)\n",
    "print(res)"
   ]
  },
  {
   "cell_type": "code",
   "execution_count": 41,
   "id": "c3bf0e61",
   "metadata": {},
   "outputs": [
    {
     "name": "stdout",
     "output_type": "stream",
     "text": [
      "[array([[3],\n",
      "       [8],\n",
      "       [4]]), array([[2],\n",
      "       [9],\n",
      "       [6]]), array([[1],\n",
      "       [7],\n",
      "       [5]])]\n"
     ]
    }
   ],
   "source": [
    "arr = np.array([[3, 2, 1], [8, 9, 7], [4, 6, 5]])\n",
    "res = np.split(arr, 3, axis = 1)\n",
    "print(res)"
   ]
  },
  {
   "cell_type": "markdown",
   "id": "95fc7747",
   "metadata": {},
   "source": [
    "---\n",
    "V-Split is for axis = 0"
   ]
  },
  {
   "cell_type": "code",
   "execution_count": 42,
   "id": "65362098",
   "metadata": {},
   "outputs": [
    {
     "name": "stdout",
     "output_type": "stream",
     "text": [
      "[array([[1, 2, 3, 4],\n",
      "       [5, 6, 7, 8]]), array([[ 9, 10, 11, 12],\n",
      "       [13, 14, 15, 16]])]\n",
      "[array([[1, 2, 3, 4],\n",
      "       [5, 6, 7, 8]]), array([[ 9, 10, 11, 12],\n",
      "       [13, 14, 15, 16]])]\n"
     ]
    }
   ],
   "source": [
    "arr = np.array([[1, 2, 3, 4],\n",
    "                [5, 6, 7, 8],\n",
    "                [9, 10, 11, 12],\n",
    "                [13, 14, 15, 16]])\n",
    "\n",
    "res = np.vsplit(arr, 2)\n",
    "print(res)\n",
    "res = np.split(arr, 2, axis = 0)\n",
    "print(res)"
   ]
  },
  {
   "cell_type": "markdown",
   "id": "902053f7",
   "metadata": {},
   "source": [
    "---\n",
    "H-Split is for axis = 1"
   ]
  },
  {
   "cell_type": "code",
   "execution_count": 43,
   "id": "f3fd20f0",
   "metadata": {},
   "outputs": [
    {
     "name": "stdout",
     "output_type": "stream",
     "text": [
      "[array([[ 1,  2],\n",
      "       [ 5,  6],\n",
      "       [ 9, 10],\n",
      "       [13, 14]]), array([[ 3,  4],\n",
      "       [ 7,  8],\n",
      "       [11, 12],\n",
      "       [15, 16]])]\n",
      "[array([[ 1,  2],\n",
      "       [ 5,  6],\n",
      "       [ 9, 10],\n",
      "       [13, 14]]), array([[ 3,  4],\n",
      "       [ 7,  8],\n",
      "       [11, 12],\n",
      "       [15, 16]])]\n"
     ]
    }
   ],
   "source": [
    "res = np.hsplit(arr, 2)\n",
    "print(res)\n",
    "res = np.split(arr, 2, axis = 1)\n",
    "print(res)"
   ]
  },
  {
   "cell_type": "markdown",
   "id": "2fce1a60",
   "metadata": {},
   "source": [
    "---\n",
    "D-Split is for axis = 2"
   ]
  },
  {
   "cell_type": "code",
   "execution_count": 44,
   "id": "27dada14",
   "metadata": {},
   "outputs": [
    {
     "name": "stdout",
     "output_type": "stream",
     "text": [
      "[array([[[ 0,  1],\n",
      "        [ 4,  5],\n",
      "        [ 8,  9]],\n",
      "\n",
      "       [[12, 13],\n",
      "        [16, 17],\n",
      "        [20, 21]]]), array([[[ 2,  3],\n",
      "        [ 6,  7],\n",
      "        [10, 11]],\n",
      "\n",
      "       [[14, 15],\n",
      "        [18, 19],\n",
      "        [22, 23]]])]\n"
     ]
    }
   ],
   "source": [
    "arr = np.array([[[0, 1, 2, 3],\n",
    "                 [4, 5, 6, 7],\n",
    "                 [8, 9, 10, 11]],\n",
    "\n",
    "                [[12, 13, 14, 15],\n",
    "                 [16, 17, 18, 19],\n",
    "                 [20, 21, 22, 23]]])\n",
    "\n",
    "res = np.dsplit(arr, 2)\n",
    "print(res)"
   ]
  },
  {
   "cell_type": "markdown",
   "id": "6908c055",
   "metadata": {},
   "source": [
    "---"
   ]
  },
  {
   "cell_type": "markdown",
   "id": "1028a044",
   "metadata": {},
   "source": [
    "## 03 - Array Broadcasting\n",
    "---\n",
    "Importing NumPY"
   ]
  },
  {
   "cell_type": "code",
   "execution_count": 45,
   "id": "1c0313dd",
   "metadata": {},
   "outputs": [],
   "source": [
    "import numpy as np"
   ]
  },
  {
   "cell_type": "markdown",
   "id": "0aabd77c",
   "metadata": {},
   "source": [
    "---\n",
    "Operation always happens row-wise"
   ]
  },
  {
   "cell_type": "code",
   "execution_count": 46,
   "id": "a7c44ad4",
   "metadata": {},
   "outputs": [
    {
     "name": "stdout",
     "output_type": "stream",
     "text": [
      "[[2 4 6]\n",
      " [5 7 9]]\n"
     ]
    }
   ],
   "source": [
    "a = np.array([[1, 2, 3], [4, 5, 6]])\n",
    "b = np.array([1, 2, 3])\n",
    "\n",
    "print(a + b)"
   ]
  },
  {
   "cell_type": "markdown",
   "id": "57848b25",
   "metadata": {},
   "source": [
    "---\n"
   ]
  },
  {
   "cell_type": "markdown",
   "id": "c3ba9eb8",
   "metadata": {},
   "source": [
    "By using np.newaxis, we can add elements column-wise"
   ]
  },
  {
   "cell_type": "code",
   "execution_count": 47,
   "id": "13570530",
   "metadata": {},
   "outputs": [
    {
     "name": "stdout",
     "output_type": "stream",
     "text": [
      "[[2 3 4]\n",
      " [6 7 8]]\n"
     ]
    }
   ],
   "source": [
    "a = np.array([[1, 2, 3], [4, 5, 6]])\n",
    "b = np.array([1, 2])\n",
    "\n",
    "print(a + b[:, np.newaxis])"
   ]
  },
  {
   "cell_type": "markdown",
   "id": "13f41a76",
   "metadata": {},
   "source": [
    "---\n",
    "### Broadcasting in Conditional Operations"
   ]
  },
  {
   "cell_type": "code",
   "execution_count": 48,
   "id": "e094e676",
   "metadata": {},
   "outputs": [
    {
     "name": "stdout",
     "output_type": "stream",
     "text": [
      "['Minor' 'Adult' 'Adult' 'Adult' 'Adult' 'Adult']\n"
     ]
    }
   ],
   "source": [
    "ages = np.array([12, 24, 35, 45, 60, 72])\n",
    "age_group = np.array([\"Adult\", \"Minor\"])\n",
    "\n",
    "res = np.where(ages >= 18, age_group[0], age_group[1])\n",
    "print(res)"
   ]
  },
  {
   "cell_type": "markdown",
   "id": "b375cfa8",
   "metadata": {},
   "source": [
    "---\n",
    "### Normalizing Data in ML\n",
    "- centers data and it has zero mean.\n",
    "- By dividing the standard deviation, its ensures unit variance."
   ]
  },
  {
   "cell_type": "code",
   "execution_count": 49,
   "id": "8b94dd05",
   "metadata": {},
   "outputs": [
    {
     "name": "stdout",
     "output_type": "stream",
     "text": [
      "[[ 1.22474487  1.22474487  0.        ]\n",
      " [ 0.          0.          1.22474487]\n",
      " [-1.22474487 -1.22474487 -1.22474487]]\n"
     ]
    }
   ],
   "source": [
    "arr = np.array([\n",
    "  [100, 120, 130],\n",
    "  [90, 110, 140],\n",
    "  [80, 100, 120]\n",
    "])\n",
    "\n",
    "mean = arr.mean(axis = 0)\n",
    "std = arr.std(axis = 0)\n",
    "\n",
    "normalized_arr = (arr - mean) / std\n",
    "print(normalized_arr)"
   ]
  },
  {
   "cell_type": "markdown",
   "id": "e9747e3f",
   "metadata": {},
   "source": [
    "---\n",
    "### Centering Data in ML"
   ]
  },
  {
   "cell_type": "code",
   "execution_count": 50,
   "id": "666cd185",
   "metadata": {},
   "outputs": [
    {
     "name": "stdout",
     "output_type": "stream",
     "text": [
      "[[-5. -5.]\n",
      " [ 0.  0.]\n",
      " [ 5.  5.]]\n"
     ]
    }
   ],
   "source": [
    "arr = np.array([\n",
    "  [10, 20],\n",
    "  [15, 25],\n",
    "  [20, 30]\n",
    "])\n",
    "\n",
    "mean = arr.mean(axis = 0)\n",
    "centered_arr = arr - mean\n",
    "print(centered_arr)"
   ]
  },
  {
   "cell_type": "markdown",
   "id": "9d30ca48",
   "metadata": {},
   "source": [
    "---"
   ]
  },
  {
   "cell_type": "markdown",
   "id": "473586d5",
   "metadata": {},
   "source": [
    "## 04 - Aggregation / Universal Functions\n",
    "---\n",
    "Importing NumPY"
   ]
  },
  {
   "cell_type": "code",
   "execution_count": 51,
   "id": "df091a60",
   "metadata": {},
   "outputs": [],
   "source": [
    "import numpy as np"
   ]
  },
  {
   "cell_type": "markdown",
   "id": "124a5468",
   "metadata": {},
   "source": [
    "---\n",
    "## Sum in NumPY"
   ]
  },
  {
   "cell_type": "code",
   "execution_count": 52,
   "id": "c77e03e2",
   "metadata": {},
   "outputs": [
    {
     "name": "stdout",
     "output_type": "stream",
     "text": [
      "Sum : 36.2\n",
      "Data Type : float64\n",
      "Sum (int32) : 36\n"
     ]
    }
   ],
   "source": [
    "arr = [20, 2, .2, 10, 4] \n",
    "\n",
    "print(\"Sum :\", np.sum(arr))\n",
    "print(\"Data Type :\", np.sum(arr).dtype)\n",
    "\n",
    "print(\"Sum (int32) :\", np.sum(arr, dtype = np.int32))"
   ]
  },
  {
   "cell_type": "markdown",
   "id": "48ef6004",
   "metadata": {},
   "source": [
    "---"
   ]
  },
  {
   "cell_type": "code",
   "execution_count": 53,
   "id": "fc075a7b",
   "metadata": {},
   "outputs": [
    {
     "name": "stdout",
     "output_type": "stream",
     "text": [
      "Sum : 279\n",
      "Data Type : int64\n"
     ]
    }
   ],
   "source": [
    "arr = [[14, 17, 12, 33, 44],\n",
    "\t     [15, 6, 27, 8, 19],\n",
    "\t     [23, 2, 54, 1, 4,]]\n",
    "\n",
    "print(\"Sum :\", np.sum(arr))\n",
    "print(\"Data Type :\", np.sum(arr).dtype)"
   ]
  },
  {
   "cell_type": "markdown",
   "id": "12e564ed",
   "metadata": {},
   "source": [
    "---"
   ]
  },
  {
   "cell_type": "code",
   "execution_count": 54,
   "id": "39f0f832",
   "metadata": {},
   "outputs": [
    {
     "name": "stdout",
     "output_type": "stream",
     "text": [
      "[52 25 93 42 67]\n",
      "[120  75  84]\n",
      "[[120]\n",
      " [ 75]\n",
      " [ 84]]\n"
     ]
    }
   ],
   "source": [
    "arr = [[14, 17, 12, 33, 44],\n",
    "\t     [15, 6, 27, 8, 19],\n",
    "\t     [23, 2, 54, 1, 4,]]\n",
    "\n",
    "print(np.sum(arr, axis = 0))\n",
    "print(np.sum(arr, axis = 1))\n",
    "print(np.sum(arr, axis = 1, keepdims = True))"
   ]
  },
  {
   "cell_type": "markdown",
   "id": "9a237273",
   "metadata": {},
   "source": [
    "---\n",
    "### Mean in NumPY"
   ]
  },
  {
   "cell_type": "code",
   "execution_count": 55,
   "id": "dbe2d13d",
   "metadata": {},
   "outputs": [
    {
     "name": "stdout",
     "output_type": "stream",
     "text": [
      "12.8\n"
     ]
    }
   ],
   "source": [
    "arr = [20, 2, 7, 1, 34]\n",
    "print(np.mean(arr))"
   ]
  },
  {
   "cell_type": "markdown",
   "id": "d41d530f",
   "metadata": {},
   "source": [
    "---"
   ]
  },
  {
   "cell_type": "code",
   "execution_count": 56,
   "id": "979970e2",
   "metadata": {},
   "outputs": [
    {
     "name": "stdout",
     "output_type": "stream",
     "text": [
      "18.6\n",
      "[17.33333333  8.33333333 31.         14.         22.33333333]\n",
      "[24.  15.  16.8]\n"
     ]
    }
   ],
   "source": [
    "arr = [[14, 17, 12, 33, 44],  \n",
    "       [15, 6, 27, 8, 19], \n",
    "       [23, 2, 54, 1, 4]]\n",
    "\n",
    "print(np.mean(arr))\n",
    "print(np.mean(arr, axis = 0))\n",
    "print(np.mean(arr, axis = 1))"
   ]
  },
  {
   "cell_type": "markdown",
   "id": "bcf51737",
   "metadata": {},
   "source": [
    "---\n",
    "### Max / Min in NumPY"
   ]
  },
  {
   "cell_type": "code",
   "execution_count": 57,
   "id": "b5f9643e",
   "metadata": {},
   "outputs": [
    {
     "name": "stdout",
     "output_type": "stream",
     "text": [
      "21\n",
      "11\n"
     ]
    }
   ],
   "source": [
    "num1 = 11\n",
    "num2 = 21\n",
    "\n",
    "res = np.maximum(num1, num2)\n",
    "print(res)\n",
    "res = np.minimum(num1, num2)\n",
    "print(res)"
   ]
  },
  {
   "cell_type": "markdown",
   "id": "8eda1a43",
   "metadata": {},
   "source": [
    "---"
   ]
  },
  {
   "cell_type": "code",
   "execution_count": 58,
   "id": "105530ad",
   "metadata": {},
   "outputs": [
    {
     "name": "stdout",
     "output_type": "stream",
     "text": [
      "[  3   8 125]\n",
      "[ 2  3 15]\n"
     ]
    }
   ],
   "source": [
    "num1 = [2, 8, 125]\n",
    "num2 = [3, 3, 15]\n",
    "\n",
    "res = np.maximum(num1, num2)\n",
    "print(res)\n",
    "res = np.minimum(num1, num2)\n",
    "print(res)"
   ]
  },
  {
   "cell_type": "markdown",
   "id": "6fe646a4",
   "metadata": {},
   "source": [
    "---"
   ]
  },
  {
   "cell_type": "code",
   "execution_count": 59,
   "id": "91862ab0",
   "metadata": {},
   "outputs": [
    {
     "name": "stdout",
     "output_type": "stream",
     "text": [
      "[nan nan nan]\n",
      "[nan nan nan]\n"
     ]
    }
   ],
   "source": [
    "num1 = [np.nan, 0, np.nan]\n",
    "num2 = [np.nan, np.nan, 0]\n",
    "\n",
    "res = np.maximum(num1, num2)\n",
    "print(res)\n",
    "res = np.minimum(num1, num2)\n",
    "print(res)"
   ]
  },
  {
   "cell_type": "markdown",
   "id": "75fff7a0",
   "metadata": {},
   "source": [
    "---\n",
    "### Trignometric Functions"
   ]
  },
  {
   "cell_type": "code",
   "execution_count": 60,
   "id": "e77bf1c0",
   "metadata": {},
   "outputs": [
    {
     "name": "stdout",
     "output_type": "stream",
     "text": [
      "[0.00000000e+00 5.00000000e-01 7.07106781e-01 8.66025404e-01\n",
      " 1.00000000e+00 1.22464680e-16]\n",
      "[0.0000000e+00 3.0000000e+01 4.5000000e+01 6.0000000e+01 9.0000000e+01\n",
      " 7.0167093e-15]\n",
      "[ 0.          0.54785347  0.86867096  1.24936705  2.3012989  11.54873936]\n",
      "[ 0.          0.52085606  0.76347126  0.94878485  0.74483916 -0.85086591]\n",
      "5.0\n"
     ]
    }
   ],
   "source": [
    "angles = np.array([0, 30, 45, 60, 90, 180]) \n",
    "\n",
    "radians = np.deg2rad(angles)\n",
    "\n",
    "# sine of angles\n",
    "sine = np.sin(radians)\n",
    "print(np.sin(radians))\n",
    "\n",
    "# inverse sine of sine values\n",
    "print(np.rad2deg(np.arcsin(sine)))\n",
    "\n",
    "# hyperbolic sine of angles\n",
    "sineh = np.sinh(radians)\n",
    "print(np.sinh(radians))\n",
    "\n",
    "# inverse sine hyperbolic \n",
    "print(np.sin(sineh)) \n",
    "\n",
    "# hypotenuse\n",
    "print(np.hypot(3, 4))"
   ]
  },
  {
   "cell_type": "markdown",
   "id": "8999841d",
   "metadata": {},
   "source": [
    "---\n",
    "### Statical Functions"
   ]
  },
  {
   "cell_type": "code",
   "execution_count": 61,
   "id": "26d019cc",
   "metadata": {},
   "outputs": [
    {
     "name": "stdout",
     "output_type": "stream",
     "text": [
      "45.0 73.25\n",
      "28.25\n",
      "55.317\n",
      "54.3225\n",
      "51.6\n",
      "8.052773978574091\n",
      "64.84716875\n",
      "54.3225\n"
     ]
    }
   ],
   "source": [
    "arr = np.array([50.7, 52.5, 50, 58, 55.63, 73.25, 49.5, 45])\n",
    "\n",
    "# minimum and maximum \n",
    "print(np.amin(arr), np.amax(arr))\n",
    "\n",
    "# range of arr i.e. max - min\n",
    "print(np.ptp(arr))\n",
    "\n",
    "# percentile -> Value below which 70 % student fall\n",
    "print(np.percentile(arr, 70))\n",
    " \n",
    "# mean \n",
    "print(np.mean(arr))\n",
    "\n",
    "# median \n",
    "print(np.median(arr))\n",
    "\n",
    "# standard deviation \n",
    "print(np.std(arr))\n",
    "\n",
    "# variance \n",
    "print(np.var(arr))\n",
    "\n",
    "# average \n",
    "print(np.average(arr))"
   ]
  },
  {
   "cell_type": "markdown",
   "id": "986752fc",
   "metadata": {},
   "source": [
    "---\n",
    "### Bit-twiddling Functions"
   ]
  },
  {
   "cell_type": "code",
   "execution_count": 62,
   "id": "0bcaa604",
   "metadata": {},
   "outputs": [
    {
     "name": "stdout",
     "output_type": "stream",
     "text": [
      "[ 0  2  4  6  8 16 32]\n",
      "[ 1  3  5  7  9 17 33]\n",
      "[1 1 1 1 1 1 1]\n",
      "[ -1  -3  -5  -7  -9 -17 -33]\n",
      "[ 0  4  8 12 16 32 64]\n",
      "[ 0  1  2  3  4  8 16]\n"
     ]
    }
   ],
   "source": [
    "even = np.array([0, 2, 4, 6, 8, 16, 32])\n",
    "odd = np.array([1, 3, 5, 7, 9, 17, 33])\n",
    "\n",
    "# bitwise_and\n",
    "print(np.bitwise_and(even, odd))\n",
    "\n",
    "# bitwise_or\n",
    "print(np.bitwise_or(even, odd))\n",
    "\n",
    "# bitwise_xor\n",
    "print(np.bitwise_xor(even, odd))\n",
    " \n",
    "# invert or not\n",
    "print(np.invert(even))\n",
    "\n",
    "# left_shift \n",
    "print(np.left_shift(even, 1))\n",
    "\n",
    "# right_shift \n",
    "print(np.right_shift(even, 1))"
   ]
  },
  {
   "cell_type": "markdown",
   "id": "b04e3bb3",
   "metadata": {},
   "source": [
    "---"
   ]
  },
  {
   "cell_type": "markdown",
   "id": "3ae51dfc",
   "metadata": {},
   "source": [
    "## 05 - Linear Algebra with NumPY\n",
    "---\n",
    "Importing NumPY"
   ]
  },
  {
   "cell_type": "code",
   "execution_count": 63,
   "id": "4b0b4141",
   "metadata": {},
   "outputs": [],
   "source": [
    "import numpy as np"
   ]
  },
  {
   "cell_type": "markdown",
   "id": "77e5b10b",
   "metadata": {},
   "source": [
    "---\n",
    "### Transpose of Matrix"
   ]
  },
  {
   "cell_type": "code",
   "execution_count": 64,
   "id": "2946e256",
   "metadata": {},
   "outputs": [
    {
     "name": "stdout",
     "output_type": "stream",
     "text": [
      "[[1 4]\n",
      " [2 5]\n",
      " [3 6]]\n"
     ]
    }
   ],
   "source": [
    "arr = np.array([[1, 2, 3], [4, 5, 6]])\n",
    "print(arr.T)"
   ]
  },
  {
   "cell_type": "markdown",
   "id": "11bcd07a",
   "metadata": {},
   "source": [
    "---\n",
    "### Matrix Multiplication / Dot Product"
   ]
  },
  {
   "cell_type": "code",
   "execution_count": 65,
   "id": "c9c4f270",
   "metadata": {},
   "outputs": [
    {
     "name": "stdout",
     "output_type": "stream",
     "text": [
      "[[25 28]\n",
      " [73 82]]\n",
      "109\n",
      "(-7+22j)\n",
      "(23-2j)\n"
     ]
    }
   ],
   "source": [
    "arr1 = np.array([[1, 2], [4, 5]])\n",
    "arr2 = np.array([[7, 8], [9, 10]])\n",
    "\n",
    "print(np.dot(arr1, arr2))\n",
    "print(np.vdot(arr1, arr2)) # It assumes array to be flattened\n",
    "\n",
    "vector_a = 2 + 3j\n",
    "vector_b = 4 + 5j\n",
    "\n",
    "print(np.dot(vector_a, vector_b))\n",
    "print(np.vdot(vector_a, vector_b)) # It will take conjugate of complex numbers for dot product"
   ]
  },
  {
   "cell_type": "markdown",
   "id": "4b4fe6c1",
   "metadata": {},
   "source": [
    "---\n",
    "### Inner Product"
   ]
  },
  {
   "cell_type": "code",
   "execution_count": 66,
   "id": "4e843ecc",
   "metadata": {},
   "outputs": [
    {
     "name": "stdout",
     "output_type": "stream",
     "text": [
      "66\n",
      "[[17 52]\n",
      " [13 62]]\n"
     ]
    }
   ],
   "source": [
    "arr1 = np.array([2, 6])     # 1 x 2\n",
    "arr2 = np.array([3, 10])    # 2 x 1\n",
    "\n",
    "print(np.inner(arr1, arr2)) # 1 x 1\n",
    "\n",
    "arr1 = np.array([[2, 3, 4], [3, 2, 9]])  # 2 x 3\n",
    "arr2 = np.array([[1, 5, 0], [5, 10, 3]]) # 3 x 2\n",
    "\n",
    "print(np.inner(arr1, arr2))              # 2 x 2"
   ]
  },
  {
   "cell_type": "markdown",
   "id": "815e5c43",
   "metadata": {},
   "source": [
    "---\n",
    "### Outer Product"
   ]
  },
  {
   "cell_type": "code",
   "execution_count": 67,
   "id": "1c9248a9",
   "metadata": {},
   "outputs": [
    {
     "name": "stdout",
     "output_type": "stream",
     "text": [
      "[[ 6 20]\n",
      " [18 60]]\n",
      "[[  3  45  21   9  30  24]\n",
      " [  6  90  42  18  60  48]\n",
      " [  4  60  28  12  40  32]\n",
      " [  9 135  63  27  90  72]\n",
      " [  4  60  28  12  40  32]\n",
      " [  6  90  42  18  60  48]]\n"
     ]
    }
   ],
   "source": [
    "arr1 = np.array([2, 6])\n",
    "arr2 = np.array([3, 10])\n",
    "\n",
    "print(np.outer(arr1, arr2))\n",
    "\n",
    "arr1 = np.array([[3, 6, 4], [9, 4, 6]])\n",
    "arr2 = np.array([[1, 15, 7], [3, 10, 8]])\n",
    "\n",
    "print(np.outer(arr1, arr2))"
   ]
  },
  {
   "cell_type": "markdown",
   "id": "35d84315",
   "metadata": {},
   "source": [
    "---\n",
    "### Cross Product"
   ]
  },
  {
   "cell_type": "code",
   "execution_count": 68,
   "id": "932571af",
   "metadata": {},
   "outputs": [
    {
     "name": "stdout",
     "output_type": "stream",
     "text": [
      "[  0   0 -24]\n",
      "[[ -9  51 -32]\n",
      " [-15   3   3]]\n"
     ]
    }
   ],
   "source": [
    "arr1 = np.array([3, 6, 0])\n",
    "arr2 = np.array([9, 10, 0])\n",
    "\n",
    "print(np.cross(arr1, arr2))\n",
    "\n",
    "arr1 = np.array([[2, 6, 9], [2, 7, 3]])\n",
    "arr2 = np.array([[7, 5, 6], [3, 12, 3]])\n",
    "\n",
    "print(np.cross(arr1, arr2))"
   ]
  },
  {
   "cell_type": "markdown",
   "id": "a5b5d518",
   "metadata": {},
   "source": [
    "---\n",
    "### Dterminant of a Matrix\n",
    "Using log of determinant"
   ]
  },
  {
   "cell_type": "code",
   "execution_count": 69,
   "id": "a6ecc108",
   "metadata": {},
   "outputs": [
    {
     "name": "stdout",
     "output_type": "stream",
     "text": [
      "1330.0000000000002\n"
     ]
    }
   ],
   "source": [
    "arr = np.array([[50, 29], [30, 44]])\n",
    "sign, logdet = np.linalg.slogdet(arr)\n",
    "res = sign * np.exp(logdet)\n",
    "print(res)"
   ]
  },
  {
   "cell_type": "markdown",
   "id": "1a02bf62",
   "metadata": {},
   "source": [
    "---\n",
    "Using simple Determinant (Used for small values)"
   ]
  },
  {
   "cell_type": "code",
   "execution_count": 70,
   "id": "e22dfa32",
   "metadata": {},
   "outputs": [
    {
     "name": "stdout",
     "output_type": "stream",
     "text": [
      "-2.0000000000000004\n"
     ]
    }
   ],
   "source": [
    "arr = np.array([[1, 2], [3, 4]])\n",
    "res = np.linalg.det(arr)\n",
    "print(res)"
   ]
  },
  {
   "cell_type": "markdown",
   "id": "90873c91",
   "metadata": {},
   "source": [
    "---\n",
    "__Using LU Decomposition :__ LU decomposition can also be used to calculate the determinant by decomposing the matrix into lower (L) and upper (U) triangular matrices. The determinant is the product of the diagonal elements of the U matrix."
   ]
  },
  {
   "cell_type": "code",
   "execution_count": 71,
   "id": "adda4705",
   "metadata": {},
   "outputs": [
    {
     "name": "stdout",
     "output_type": "stream",
     "text": [
      "2.0\n"
     ]
    }
   ],
   "source": [
    "import scipy.linalg\n",
    "arr = np.array([[1, 2], [3, 4]])\n",
    "P, L, U = scipy.linalg.lu(arr)\n",
    "res = np.prod(np.diag(U))\n",
    "print(res)"
   ]
  },
  {
   "cell_type": "markdown",
   "id": "5d131e89",
   "metadata": {},
   "source": [
    "---\n",
    "### Inverse of a Matrix"
   ]
  },
  {
   "cell_type": "code",
   "execution_count": 72,
   "id": "b0d2d20d",
   "metadata": {},
   "outputs": [
    {
     "name": "stdout",
     "output_type": "stream",
     "text": [
      "[[ 0.17647059 -0.00326797 -0.02287582]\n",
      " [ 0.05882353 -0.13071895  0.08496732]\n",
      " [-0.11764706  0.1503268   0.05228758]]\n"
     ]
    }
   ],
   "source": [
    "arr = np.array([[6, 1, 1],\n",
    "                [4, -2, 5],\n",
    "                [2, 8, 7]])\n",
    "print(np.linalg.inv(arr))"
   ]
  },
  {
   "cell_type": "markdown",
   "id": "03a9464a",
   "metadata": {},
   "source": [
    "---"
   ]
  }
 ],
 "metadata": {
  "kernelspec": {
   "display_name": ".venv",
   "language": "python",
   "name": "python3"
  },
  "language_info": {
   "codemirror_mode": {
    "name": "ipython",
    "version": 3
   },
   "file_extension": ".py",
   "mimetype": "text/x-python",
   "name": "python",
   "nbconvert_exporter": "python",
   "pygments_lexer": "ipython3",
   "version": "3.13.5"
  }
 },
 "nbformat": 4,
 "nbformat_minor": 5
}
