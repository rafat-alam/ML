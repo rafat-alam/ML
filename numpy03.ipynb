{
 "cells": [
  {
   "cell_type": "markdown",
   "id": "1028a044",
   "metadata": {},
   "source": [
    "## 03 - Array Broadcasting\n",
    "---\n",
    "Importing NumPY"
   ]
  },
  {
   "cell_type": "code",
   "execution_count": 2,
   "id": "1c0313dd",
   "metadata": {},
   "outputs": [],
   "source": [
    "import numpy as np"
   ]
  },
  {
   "cell_type": "markdown",
   "id": "0aabd77c",
   "metadata": {},
   "source": [
    "---\n",
    "Operation always happens row-wise"
   ]
  },
  {
   "cell_type": "code",
   "execution_count": 3,
   "id": "a7c44ad4",
   "metadata": {},
   "outputs": [
    {
     "name": "stdout",
     "output_type": "stream",
     "text": [
      "[[2 4 6]\n",
      " [5 7 9]]\n"
     ]
    }
   ],
   "source": [
    "a = np.array([[1, 2, 3], [4, 5, 6]])\n",
    "b = np.array([1, 2, 3])\n",
    "\n",
    "print(a + b)"
   ]
  },
  {
   "cell_type": "markdown",
   "id": "57848b25",
   "metadata": {},
   "source": [
    "---\n"
   ]
  },
  {
   "cell_type": "markdown",
   "id": "c3ba9eb8",
   "metadata": {},
   "source": [
    "By using np.newaxis, we can add elements column-wise"
   ]
  },
  {
   "cell_type": "code",
   "execution_count": 4,
   "id": "13570530",
   "metadata": {},
   "outputs": [
    {
     "name": "stdout",
     "output_type": "stream",
     "text": [
      "[[2 3 4]\n",
      " [6 7 8]]\n"
     ]
    }
   ],
   "source": [
    "a = np.array([[1, 2, 3], [4, 5, 6]])\n",
    "b = np.array([1, 2])\n",
    "\n",
    "print(a + b[:, np.newaxis])"
   ]
  },
  {
   "cell_type": "markdown",
   "id": "13f41a76",
   "metadata": {},
   "source": [
    "---\n",
    "### Broadcasting in Conditional Operations"
   ]
  },
  {
   "cell_type": "code",
   "execution_count": 6,
   "id": "e094e676",
   "metadata": {},
   "outputs": [
    {
     "name": "stdout",
     "output_type": "stream",
     "text": [
      "['Minor' 'Adult' 'Adult' 'Adult' 'Adult' 'Adult']\n"
     ]
    }
   ],
   "source": [
    "ages = np.array([12, 24, 35, 45, 60, 72])\n",
    "age_group = np.array([\"Adult\", \"Minor\"])\n",
    "\n",
    "res = np.where(ages >= 18, age_group[0], age_group[1])\n",
    "print(res)"
   ]
  },
  {
   "cell_type": "markdown",
   "id": "b375cfa8",
   "metadata": {},
   "source": [
    "---\n",
    "### Normalizing Data in ML\n",
    "- centers data and it has zero mean.\n",
    "- By dividing the standard deviation, its ensures unit variance."
   ]
  },
  {
   "cell_type": "code",
   "execution_count": 7,
   "id": "8b94dd05",
   "metadata": {},
   "outputs": [
    {
     "name": "stdout",
     "output_type": "stream",
     "text": [
      "[[ 1.22474487  1.22474487  0.        ]\n",
      " [ 0.          0.          1.22474487]\n",
      " [-1.22474487 -1.22474487 -1.22474487]]\n"
     ]
    }
   ],
   "source": [
    "arr = np.array([\n",
    "  [100, 120, 130],\n",
    "  [90, 110, 140],\n",
    "  [80, 100, 120]\n",
    "])\n",
    "\n",
    "mean = arr.mean(axis = 0)\n",
    "std = arr.std(axis = 0)\n",
    "\n",
    "normalized_arr = (arr - mean) / std\n",
    "print(normalized_arr)"
   ]
  },
  {
   "cell_type": "markdown",
   "id": "e9747e3f",
   "metadata": {},
   "source": [
    "---\n",
    "### Centering Data in ML"
   ]
  },
  {
   "cell_type": "code",
   "execution_count": 8,
   "id": "666cd185",
   "metadata": {},
   "outputs": [
    {
     "name": "stdout",
     "output_type": "stream",
     "text": [
      "[[-5. -5.]\n",
      " [ 0.  0.]\n",
      " [ 5.  5.]]\n"
     ]
    }
   ],
   "source": [
    "arr = np.array([\n",
    "  [10, 20],\n",
    "  [15, 25],\n",
    "  [20, 30]\n",
    "])\n",
    "\n",
    "mean = arr.mean(axis = 0)\n",
    "centered_arr = arr - mean\n",
    "print(centered_arr)"
   ]
  },
  {
   "cell_type": "markdown",
   "id": "9d30ca48",
   "metadata": {},
   "source": [
    "---"
   ]
  }
 ],
 "metadata": {
  "kernelspec": {
   "display_name": ".venv",
   "language": "python",
   "name": "python3"
  },
  "language_info": {
   "codemirror_mode": {
    "name": "ipython",
    "version": 3
   },
   "file_extension": ".py",
   "mimetype": "text/x-python",
   "name": "python",
   "nbconvert_exporter": "python",
   "pygments_lexer": "ipython3",
   "version": "3.13.5"
  }
 },
 "nbformat": 4,
 "nbformat_minor": 5
}
