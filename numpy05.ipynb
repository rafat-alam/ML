{
 "cells": [
  {
   "cell_type": "markdown",
   "id": "3ae51dfc",
   "metadata": {},
   "source": [
    "## 05 - Linear Algebra with NumPY\n",
    "---\n",
    "Importing NumPY"
   ]
  },
  {
   "cell_type": "code",
   "execution_count": 7,
   "id": "4b0b4141",
   "metadata": {},
   "outputs": [],
   "source": [
    "import numpy as np"
   ]
  },
  {
   "cell_type": "markdown",
   "id": "77e5b10b",
   "metadata": {},
   "source": [
    "---\n",
    "### Transpose of Matrix"
   ]
  },
  {
   "cell_type": "code",
   "execution_count": 9,
   "id": "2946e256",
   "metadata": {},
   "outputs": [
    {
     "name": "stdout",
     "output_type": "stream",
     "text": [
      "[[1 4]\n",
      " [2 5]\n",
      " [3 6]]\n"
     ]
    }
   ],
   "source": [
    "arr = np.array([[1, 2, 3], [4, 5, 6]])\n",
    "print(arr.T)"
   ]
  },
  {
   "cell_type": "markdown",
   "id": "11bcd07a",
   "metadata": {},
   "source": [
    "---\n",
    "### Matrix Multiplication / Dot Product"
   ]
  },
  {
   "cell_type": "code",
   "execution_count": 18,
   "id": "c9c4f270",
   "metadata": {},
   "outputs": [
    {
     "name": "stdout",
     "output_type": "stream",
     "text": [
      "[[25 28]\n",
      " [73 82]]\n",
      "109\n",
      "(-7+22j)\n",
      "(23-2j)\n"
     ]
    }
   ],
   "source": [
    "arr1 = np.array([[1, 2], [4, 5]])\n",
    "arr2 = np.array([[7, 8], [9, 10]])\n",
    "\n",
    "print(np.dot(arr1, arr2))\n",
    "print(np.vdot(arr1, arr2)) # It assumes array to be flattened\n",
    "\n",
    "vector_a = 2 + 3j\n",
    "vector_b = 4 + 5j\n",
    "\n",
    "print(np.dot(vector_a, vector_b))\n",
    "print(np.vdot(vector_a, vector_b)) # It will take conjugate of complex numbers for dot product"
   ]
  },
  {
   "cell_type": "markdown",
   "id": "4b4fe6c1",
   "metadata": {},
   "source": [
    "---\n",
    "### Inner Product"
   ]
  },
  {
   "cell_type": "code",
   "execution_count": 10,
   "id": "4e843ecc",
   "metadata": {},
   "outputs": [
    {
     "name": "stdout",
     "output_type": "stream",
     "text": [
      "66\n",
      "[[17 52]\n",
      " [13 62]]\n"
     ]
    }
   ],
   "source": [
    "arr1 = np.array([2, 6])     # 1 x 2\n",
    "arr2 = np.array([3, 10])    # 2 x 1\n",
    "\n",
    "print(np.inner(arr1, arr2)) # 1 x 1\n",
    "\n",
    "arr1 = np.array([[2, 3, 4], [3, 2, 9]])  # 2 x 3\n",
    "arr2 = np.array([[1, 5, 0], [5, 10, 3]]) # 3 x 2\n",
    "\n",
    "print(np.inner(arr1, arr2))              # 2 x 2"
   ]
  },
  {
   "cell_type": "markdown",
   "id": "815e5c43",
   "metadata": {},
   "source": [
    "---\n",
    "### Outer Product"
   ]
  },
  {
   "cell_type": "code",
   "execution_count": 11,
   "id": "1c9248a9",
   "metadata": {},
   "outputs": [
    {
     "name": "stdout",
     "output_type": "stream",
     "text": [
      "[[ 6 20]\n",
      " [18 60]]\n",
      "[[  3  45  21   9  30  24]\n",
      " [  6  90  42  18  60  48]\n",
      " [  4  60  28  12  40  32]\n",
      " [  9 135  63  27  90  72]\n",
      " [  4  60  28  12  40  32]\n",
      " [  6  90  42  18  60  48]]\n"
     ]
    }
   ],
   "source": [
    "arr1 = np.array([2, 6])\n",
    "arr2 = np.array([3, 10])\n",
    "\n",
    "print(np.outer(arr1, arr2))\n",
    "\n",
    "arr1 = np.array([[3, 6, 4], [9, 4, 6]])\n",
    "arr2 = np.array([[1, 15, 7], [3, 10, 8]])\n",
    "\n",
    "print(np.outer(arr1, arr2))"
   ]
  },
  {
   "cell_type": "markdown",
   "id": "35d84315",
   "metadata": {},
   "source": [
    "---\n",
    "### Cross Product"
   ]
  },
  {
   "cell_type": "code",
   "execution_count": 12,
   "id": "932571af",
   "metadata": {},
   "outputs": [
    {
     "name": "stdout",
     "output_type": "stream",
     "text": [
      "[  0   0 -24]\n",
      "[[ -9  51 -32]\n",
      " [-15   3   3]]\n"
     ]
    }
   ],
   "source": [
    "arr1 = np.array([3, 6, 0])\n",
    "arr2 = np.array([9, 10, 0])\n",
    "\n",
    "print(np.cross(arr1, arr2))\n",
    "\n",
    "arr1 = np.array([[2, 6, 9], [2, 7, 3]])\n",
    "arr2 = np.array([[7, 5, 6], [3, 12, 3]])\n",
    "\n",
    "print(np.cross(arr1, arr2))"
   ]
  },
  {
   "cell_type": "markdown",
   "id": "a5b5d518",
   "metadata": {},
   "source": [
    "---\n",
    "### Dterminant of a Matrix\n",
    "Using log of determinant"
   ]
  },
  {
   "cell_type": "code",
   "execution_count": 13,
   "id": "a6ecc108",
   "metadata": {},
   "outputs": [
    {
     "name": "stdout",
     "output_type": "stream",
     "text": [
      "1330.0000000000002\n"
     ]
    }
   ],
   "source": [
    "arr = np.array([[50, 29], [30, 44]])\n",
    "sign, logdet = np.linalg.slogdet(arr)\n",
    "res = sign * np.exp(logdet)\n",
    "print(res)"
   ]
  },
  {
   "cell_type": "markdown",
   "id": "1a02bf62",
   "metadata": {},
   "source": [
    "---\n",
    "Using simple Determinant (Used for small values)"
   ]
  },
  {
   "cell_type": "code",
   "execution_count": 14,
   "id": "e22dfa32",
   "metadata": {},
   "outputs": [
    {
     "name": "stdout",
     "output_type": "stream",
     "text": [
      "-2.0000000000000004\n"
     ]
    }
   ],
   "source": [
    "arr = np.array([[1, 2], [3, 4]])\n",
    "res = np.linalg.det(arr)\n",
    "print(res)"
   ]
  },
  {
   "cell_type": "markdown",
   "id": "90873c91",
   "metadata": {},
   "source": [
    "---\n",
    "__Using LU Decomposition :__ LU decomposition can also be used to calculate the determinant by decomposing the matrix into lower (L) and upper (U) triangular matrices. The determinant is the product of the diagonal elements of the U matrix."
   ]
  },
  {
   "cell_type": "code",
   "execution_count": 15,
   "id": "adda4705",
   "metadata": {},
   "outputs": [
    {
     "name": "stdout",
     "output_type": "stream",
     "text": [
      "2.0\n"
     ]
    }
   ],
   "source": [
    "import scipy.linalg\n",
    "arr = np.array([[1, 2], [3, 4]])\n",
    "P, L, U = scipy.linalg.lu(arr)\n",
    "res = np.prod(np.diag(U))\n",
    "print(res)"
   ]
  },
  {
   "cell_type": "markdown",
   "id": "5d131e89",
   "metadata": {},
   "source": [
    "---\n",
    "### Inverse of a Matrix"
   ]
  },
  {
   "cell_type": "code",
   "execution_count": null,
   "id": "b0d2d20d",
   "metadata": {},
   "outputs": [],
   "source": [
    "arr = np.array([[6, 1, 1],\n",
    "                [4, -2, 5],\n",
    "                [2, 8, 7]])\n",
    "print(np.linalg.inv(arr))"
   ]
  },
  {
   "cell_type": "markdown",
   "id": "03a9464a",
   "metadata": {},
   "source": [
    "---"
   ]
  }
 ],
 "metadata": {
  "kernelspec": {
   "display_name": ".venv",
   "language": "python",
   "name": "python3"
  },
  "language_info": {
   "codemirror_mode": {
    "name": "ipython",
    "version": 3
   },
   "file_extension": ".py",
   "mimetype": "text/x-python",
   "name": "python",
   "nbconvert_exporter": "python",
   "pygments_lexer": "ipython3",
   "version": "3.13.5"
  }
 },
 "nbformat": 4,
 "nbformat_minor": 5
}
