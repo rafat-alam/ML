{
 "cells": [
  {
   "cell_type": "markdown",
   "id": "b81bd5c8",
   "metadata": {},
   "source": [
    "## 01 - Introduction To NumPY"
   ]
  },
  {
   "cell_type": "markdown",
   "id": "7b2087ea",
   "metadata": {},
   "source": [
    "---\n",
    "Importing NumPY"
   ]
  },
  {
   "cell_type": "code",
   "execution_count": 1,
   "id": "8217c99f",
   "metadata": {},
   "outputs": [],
   "source": [
    "import numpy as np"
   ]
  },
  {
   "cell_type": "markdown",
   "id": "94989f15",
   "metadata": {},
   "source": [
    "---\n",
    "### Initialization of Array in NumPY\n",
    "From Python Lists"
   ]
  },
  {
   "cell_type": "code",
   "execution_count": 2,
   "id": "30001615",
   "metadata": {},
   "outputs": [
    {
     "name": "stdout",
     "output_type": "stream",
     "text": [
      "[1 2 3]\n"
     ]
    }
   ],
   "source": [
    "arr = np.array([1, 2, 3])\n",
    "print(arr)"
   ]
  },
  {
   "cell_type": "markdown",
   "id": "36010489",
   "metadata": {},
   "source": [
    "---\n",
    "Array with Evenly Spaced Numbers\n",
    "\n",
    "Syntax -> numpy.linspace(start, stop, num = 50, endpoint = True, retstep = False, dtype = None, axis = 0)"
   ]
  },
  {
   "cell_type": "code",
   "execution_count": 3,
   "id": "7d9966b0",
   "metadata": {},
   "outputs": [
    {
     "name": "stdout",
     "output_type": "stream",
     "text": [
      "[ 3.5   6.75 10.  ]\n"
     ]
    }
   ],
   "source": [
    "arr = np.linspace(3.5, 10, 3, dtype = np.float64)\n",
    "print(arr)"
   ]
  },
  {
   "cell_type": "markdown",
   "id": "647cc713",
   "metadata": {},
   "source": [
    "---\n",
    "Array with Garbage Value"
   ]
  },
  {
   "cell_type": "code",
   "execution_count": 4,
   "id": "1c8d7154",
   "metadata": {},
   "outputs": [
    {
     "name": "stdout",
     "output_type": "stream",
     "text": [
      "[[4128860 6619251 7602273]\n",
      " [6029375 7536754 4259932]\n",
      " [3801155 7471196 7340144]\n",
      " [5570652 6684769 6357060]]\n"
     ]
    }
   ],
   "source": [
    "arr = np.empty([4, 3], dtype = np.int32, order = 'f')\n",
    "print(arr)"
   ]
  },
  {
   "cell_type": "markdown",
   "id": "03241c29",
   "metadata": {},
   "source": [
    "---\n",
    "Array with Zeros"
   ]
  },
  {
   "cell_type": "code",
   "execution_count": 5,
   "id": "92d19242",
   "metadata": {},
   "outputs": [
    {
     "name": "stdout",
     "output_type": "stream",
     "text": [
      "[[0 0 0]\n",
      " [0 0 0]]\n"
     ]
    }
   ],
   "source": [
    "arr = np.zeros([2, 3], dtype = np.int32, order = 'f') # [Dimension of Array]\n",
    "print(arr)"
   ]
  },
  {
   "cell_type": "markdown",
   "id": "201b8134",
   "metadata": {},
   "source": [
    "---\n",
    "Array with Ones"
   ]
  },
  {
   "cell_type": "code",
   "execution_count": 6,
   "id": "48a14f3f",
   "metadata": {},
   "outputs": [
    {
     "name": "stdout",
     "output_type": "stream",
     "text": [
      "[[1 1]\n",
      " [1 1]]\n"
     ]
    }
   ],
   "source": [
    "arr = np.ones((2, 2), dtype = np.int32, order = 'f') # [Dimension of Array]\n",
    "print(arr)"
   ]
  },
  {
   "cell_type": "markdown",
   "id": "5e87f274",
   "metadata": {},
   "source": [
    "---\n",
    "Array with All Values Equal"
   ]
  },
  {
   "cell_type": "code",
   "execution_count": 7,
   "id": "fedc00a6",
   "metadata": {},
   "outputs": [
    {
     "name": "stdout",
     "output_type": "stream",
     "text": [
      "[[7 7]\n",
      " [7 7]]\n"
     ]
    }
   ],
   "source": [
    "arr = np.full((2, 2), 7)\n",
    "print(arr)"
   ]
  },
  {
   "cell_type": "markdown",
   "id": "5756931c",
   "metadata": {},
   "source": [
    "---\n",
    "Array with Range Values"
   ]
  },
  {
   "cell_type": "code",
   "execution_count": 8,
   "id": "ad46d95b",
   "metadata": {},
   "outputs": [
    {
     "name": "stdout",
     "output_type": "stream",
     "text": [
      "[0 2 4 6 8]\n"
     ]
    }
   ],
   "source": [
    "arr = np.arange(0, 10, 2, dtype = np.int64) # (start, end, steps), end is excluded\n",
    "print(arr)"
   ]
  },
  {
   "cell_type": "markdown",
   "id": "3627e3b1",
   "metadata": {},
   "source": [
    "---\n",
    "### Indexing in NumPY"
   ]
  },
  {
   "cell_type": "markdown",
   "id": "bba711c4",
   "metadata": {},
   "source": [
    "In 1D Array"
   ]
  },
  {
   "cell_type": "code",
   "execution_count": 9,
   "id": "285b3727",
   "metadata": {},
   "outputs": [
    {
     "name": "stdout",
     "output_type": "stream",
     "text": [
      "30\n",
      "50\n"
     ]
    }
   ],
   "source": [
    "arr = np.array([10, 20, 30, 40, 50])\n",
    "              #  0,  1,  2,  3,  4\n",
    "              # -5, -4, -3, -2, -1\n",
    "print(arr[2])\n",
    "print(arr[-1])"
   ]
  },
  {
   "cell_type": "markdown",
   "id": "26a50c1b",
   "metadata": {},
   "source": [
    "---\n",
    "In 2D Array"
   ]
  },
  {
   "cell_type": "code",
   "execution_count": 10,
   "id": "75cc40db",
   "metadata": {},
   "outputs": [
    {
     "name": "stdout",
     "output_type": "stream",
     "text": [
      "4\n"
     ]
    }
   ],
   "source": [
    "arr = np.array([[1, 2, 3], [4, 5, 6], [7, 8, 9]])\n",
    "print(arr[1, 0]) # [Row, Column]"
   ]
  },
  {
   "cell_type": "markdown",
   "id": "b28cbee0",
   "metadata": {},
   "source": [
    "---"
   ]
  },
  {
   "cell_type": "code",
   "execution_count": 11,
   "id": "4abe7c48",
   "metadata": {},
   "outputs": [
    {
     "name": "stdout",
     "output_type": "stream",
     "text": [
      "[2 5]\n",
      "[[2]\n",
      " [5]]\n",
      "[[2 3]\n",
      " [5 6]]\n"
     ]
    }
   ],
   "source": [
    "arr = np.array([[1, 2, 3], [4, 5, 6]])\n",
    "\n",
    "# all rows, second column\n",
    "print(arr[:, 1])\n",
    "# [2 5]\n",
    "print(arr[:, [1]])\n",
    "# [[2]\n",
    "#  [5]]\n",
    "\n",
    "# all, rows, second and third column\n",
    "print(arr[:, [1, 2]])\n",
    "# [[2 3]\n",
    "#  [5 6]]"
   ]
  },
  {
   "cell_type": "markdown",
   "id": "2e769928",
   "metadata": {},
   "source": [
    "---\n",
    "[start:stop(excluded):steps]"
   ]
  },
  {
   "cell_type": "code",
   "execution_count": 12,
   "id": "9e17d82a",
   "metadata": {},
   "outputs": [
    {
     "name": "stdout",
     "output_type": "stream",
     "text": [
      "[1 3 5]\n"
     ]
    }
   ],
   "source": [
    "arr = np.array([0, 1, 2, 3, 4, 5])\n",
    "print(arr[1:6:2])"
   ]
  },
  {
   "cell_type": "markdown",
   "id": "dcf44ba6",
   "metadata": {},
   "source": [
    "---"
   ]
  },
  {
   "cell_type": "code",
   "execution_count": 13,
   "id": "a71fc8d8",
   "metadata": {},
   "outputs": [
    {
     "name": "stdout",
     "output_type": "stream",
     "text": [
      "[[0.15577195 0.19686848 0.30490649 0.22837442]\n",
      " [0.98469979 0.1997237  0.66249328 0.54289015]\n",
      " [0.15420497 0.38026869 0.81648129 0.34852919]\n",
      " [0.70411632 0.79494691 0.32871879 0.70547179]]\n"
     ]
    }
   ],
   "source": [
    "arr = np.random.rand(4, 4, 4)\n",
    "print(arr[..., 0])"
   ]
  },
  {
   "cell_type": "markdown",
   "id": "14a7e023",
   "metadata": {},
   "source": [
    "---"
   ]
  },
  {
   "cell_type": "code",
   "execution_count": 14,
   "id": "4cd3af1b",
   "metadata": {},
   "outputs": [
    {
     "name": "stdout",
     "output_type": "stream",
     "text": [
      "[2 4 3]\n",
      "[1 2 0 4 5 3]\n"
     ]
    }
   ],
   "source": [
    "arr = np.array([1, 2, 0, 4, 5, 3])\n",
    "\n",
    "idx = np.array([1, 3, 5])\n",
    "print (arr[idx])\n",
    "\n",
    "print (arr[(arr != 0) | (arr == 0)])"
   ]
  },
  {
   "cell_type": "markdown",
   "id": "ad3372ca",
   "metadata": {},
   "source": [
    "---"
   ]
  },
  {
   "cell_type": "code",
   "execution_count": 15,
   "id": "e76a697a",
   "metadata": {},
   "outputs": [
    {
     "name": "stdout",
     "output_type": "stream",
     "text": [
      "[[1]\n",
      " [2]\n",
      " [3]]\n"
     ]
    }
   ],
   "source": [
    "arr = np.array([1, 2, 3])\n",
    "print(arr[:, np.newaxis])"
   ]
  },
  {
   "cell_type": "markdown",
   "id": "b91e8923",
   "metadata": {},
   "source": [
    "---"
   ]
  },
  {
   "cell_type": "code",
   "execution_count": 16,
   "id": "54e53dbc",
   "metadata": {},
   "outputs": [
    {
     "name": "stdout",
     "output_type": "stream",
     "text": [
      "[ 1 99 99  4]\n"
     ]
    }
   ],
   "source": [
    "arr = np.array([1, 2, 3, 4])\n",
    "arr[1:3] = 99\n",
    "print(arr)"
   ]
  },
  {
   "cell_type": "markdown",
   "id": "cd6fb2e7",
   "metadata": {},
   "source": [
    "---\n",
    "### Arithmetic Operations in NumPY Arrays"
   ]
  },
  {
   "cell_type": "code",
   "execution_count": 17,
   "id": "358b5efd",
   "metadata": {},
   "outputs": [
    {
     "name": "stdout",
     "output_type": "stream",
     "text": [
      "[5 7 9]\n",
      "[-3 -3 -3]\n",
      "[ 4 10 18]\n",
      "[0.25 0.4  0.5 ]\n"
     ]
    }
   ],
   "source": [
    "x = np.array([1, 2, 3])\n",
    "y = np.array([4, 5, 6])\n",
    "\n",
    "print(x + y)\n",
    "print(x - y)\n",
    "print(x * y)\n",
    "print(x / y)"
   ]
  },
  {
   "cell_type": "markdown",
   "id": "7ee53f53",
   "metadata": {},
   "source": [
    "---\n",
    "### Absolute in NumPY"
   ]
  },
  {
   "cell_type": "code",
   "execution_count": 18,
   "id": "10a70d87",
   "metadata": {},
   "outputs": [
    {
     "name": "stdout",
     "output_type": "stream",
     "text": [
      "[3 1 0 1 3]\n"
     ]
    }
   ],
   "source": [
    "arr = np.array([-3, -1, 0, 1, 3])\n",
    "res = np.absolute(arr)\n",
    "\n",
    "print(res)"
   ]
  },
  {
   "cell_type": "markdown",
   "id": "7a2af88c",
   "metadata": {},
   "source": [
    "---\n",
    "### Add in Numpy"
   ]
  },
  {
   "cell_type": "code",
   "execution_count": 19,
   "id": "3cb7bc08",
   "metadata": {},
   "outputs": [
    {
     "name": "stdout",
     "output_type": "stream",
     "text": [
      "[5 7 9]\n"
     ]
    }
   ],
   "source": [
    "arr1 = np.array([1, 2, 3])\n",
    "arr2 = np.array([4, 5, 6])\n",
    "res = np.add(arr1, arr2)\n",
    "\n",
    "print(res)"
   ]
  },
  {
   "cell_type": "markdown",
   "id": "2ba50538",
   "metadata": {},
   "source": [
    "---\n",
    "### Exponentiation in NumPY"
   ]
  },
  {
   "cell_type": "code",
   "execution_count": 20,
   "id": "ff270f20",
   "metadata": {},
   "outputs": [
    {
     "name": "stdout",
     "output_type": "stream",
     "text": [
      "[                 25          1934917632        137858491849\n",
      " 1152921504606846976]\n"
     ]
    }
   ],
   "source": [
    "arr1 = np.array([5, 72, 13, 100])\n",
    "arr2 = np.array([2, 5, 10, 30])\n",
    "\n",
    "res = np.power(arr1, arr2)\n",
    "print(res)"
   ]
  },
  {
   "cell_type": "markdown",
   "id": "f8783a36",
   "metadata": {},
   "source": [
    "---\n",
    "### Modulus in NumPY"
   ]
  },
  {
   "cell_type": "code",
   "execution_count": 21,
   "id": "1bdf0156",
   "metadata": {},
   "outputs": [
    {
     "name": "stdout",
     "output_type": "stream",
     "text": [
      "[ 1  2  3 10]\n"
     ]
    }
   ],
   "source": [
    "arr1 = np.array([5, 72, 13, 100])\n",
    "arr2 = np.array([2, 5, 10, 30])\n",
    "\n",
    "res = np.mod(arr1, arr2)\n",
    "print(res)"
   ]
  },
  {
   "cell_type": "markdown",
   "id": "b9509248",
   "metadata": {},
   "source": [
    "---\n",
    "### Sine / Exponential / Square Root in NumPy"
   ]
  },
  {
   "cell_type": "code",
   "execution_count": 22,
   "id": "ca27194a",
   "metadata": {},
   "outputs": [
    {
     "name": "stdout",
     "output_type": "stream",
     "text": [
      "[0.0000000e+00 1.0000000e+00 1.2246468e-16]\n",
      "[ 1.          4.81047738 23.14069263]\n",
      "[0.         1.25331414 1.77245385]\n"
     ]
    }
   ],
   "source": [
    "a = np.array([0, np.pi/2, np.pi])\n",
    "print(np.sin(a))\n",
    "print(np.exp(a))\n",
    "print(np.sqrt(a))"
   ]
  },
  {
   "cell_type": "markdown",
   "id": "78845ad6",
   "metadata": {},
   "source": [
    "---\n",
    "### Sorting NumPY Arrays"
   ]
  },
  {
   "cell_type": "code",
   "execution_count": 23,
   "id": "87c30be3",
   "metadata": {},
   "outputs": [
    {
     "name": "stdout",
     "output_type": "stream",
     "text": [
      "[(b'Aakash', 2009, 9. ) (b'Ajay', 2008, 8.7) (b'Hrithik', 2009, 8.5)\n",
      " (b'Pankaj', 2008, 7.9)]\n",
      "[(b'Pankaj', 2008, 7.9) (b'Ajay', 2008, 8.7) (b'Hrithik', 2009, 8.5)\n",
      " (b'Aakash', 2009, 9. )]\n"
     ]
    }
   ],
   "source": [
    "dtypes = [('name', 'S10'), ('grad_year', int), ('cgpa', float)]\n",
    "\n",
    "values = [('Hrithik', 2009, 8.5), ('Ajay', 2008, 8.7), \n",
    "          ('Pankaj', 2008, 7.9), ('Aakash', 2009, 9.0)]\n",
    "\n",
    "arr = np.array(values, dtype = dtypes)\n",
    "\n",
    "print (np.sort(arr, order = 'name'))\n",
    "print (np.sort(arr, order = ['grad_year', 'cgpa']))"
   ]
  },
  {
   "cell_type": "markdown",
   "id": "327ac44c",
   "metadata": {},
   "source": [
    "---\n",
    "### Type Of NumPY Arrays"
   ]
  },
  {
   "cell_type": "code",
   "execution_count": 24,
   "id": "8ac78df9",
   "metadata": {},
   "outputs": [
    {
     "name": "stdout",
     "output_type": "stream",
     "text": [
      "<class 'numpy.ndarray'>\n"
     ]
    }
   ],
   "source": [
    "arr = np.array([1, 2, 3])\n",
    "print(type(arr))"
   ]
  },
  {
   "cell_type": "markdown",
   "id": "d2845765",
   "metadata": {},
   "source": [
    "---\n",
    "### Shape / Size / DataType of NumPY Arrays"
   ]
  },
  {
   "cell_type": "code",
   "execution_count": 25,
   "id": "696b6ea3",
   "metadata": {},
   "outputs": [
    {
     "name": "stdout",
     "output_type": "stream",
     "text": [
      "Shape : (2, 3)\n",
      "Size : 6\n",
      "D Type : int64\n"
     ]
    }
   ],
   "source": [
    "arr = np.array([[1, 2, 3], [4, 5, 6]])\n",
    "print(\"Shape :\", arr.shape)\n",
    "print(\"Size :\", arr.size)\n",
    "print(\"D Type :\", arr.dtype)"
   ]
  },
  {
   "cell_type": "markdown",
   "id": "2a2a5eb2",
   "metadata": {},
   "source": [
    "---\n",
    "### Formiter in NumPY"
   ]
  },
  {
   "cell_type": "code",
   "execution_count": 26,
   "id": "df64893d",
   "metadata": {},
   "outputs": [
    {
     "name": "stdout",
     "output_type": "stream",
     "text": [
      "['R' 'a' 'f' 'a' 't' 'A' 'l' 'a' 'm']\n"
     ]
    }
   ],
   "source": [
    "var = \"RafatAlam\"\n",
    "arr = np.fromiter(var, dtype = 'U2')\n",
    "\n",
    "print(arr)"
   ]
  },
  {
   "cell_type": "markdown",
   "id": "7a5f26ab",
   "metadata": {},
   "source": [
    "---\n",
    "### Random In NumPY"
   ]
  },
  {
   "cell_type": "markdown",
   "id": "13b4e938",
   "metadata": {},
   "source": [
    "Fills values with random values between [0, 1)"
   ]
  },
  {
   "cell_type": "code",
   "execution_count": 27,
   "id": "8f4a918c",
   "metadata": {},
   "outputs": [
    {
     "name": "stdout",
     "output_type": "stream",
     "text": [
      "[[0.93031459 0.28573189 0.96587083]\n",
      " [0.65006392 0.49239461 0.83980496]]\n"
     ]
    }
   ],
   "source": [
    "arr = np.random.rand(2, 3)\n",
    "print(arr)"
   ]
  },
  {
   "cell_type": "markdown",
   "id": "d053026d",
   "metadata": {},
   "source": [
    "---\n",
    "Fill values with standard Normal Distribution"
   ]
  },
  {
   "cell_type": "code",
   "execution_count": 28,
   "id": "342daa09",
   "metadata": {},
   "outputs": [
    {
     "name": "stdout",
     "output_type": "stream",
     "text": [
      "[[ 0.68286228  0.32490147]\n",
      " [ 0.09169063 -0.13499802]]\n"
     ]
    }
   ],
   "source": [
    "arr = np.random.randn(2, 2)\n",
    "print(arr)"
   ]
  },
  {
   "cell_type": "markdown",
   "id": "3f619fbb",
   "metadata": {},
   "source": [
    "---\n",
    "Fills values with random integers between [a, b)"
   ]
  },
  {
   "cell_type": "code",
   "execution_count": 29,
   "id": "0a1bb66a",
   "metadata": {},
   "outputs": [
    {
     "name": "stdout",
     "output_type": "stream",
     "text": [
      "[[2 7 1]\n",
      " [9 6 5]]\n"
     ]
    }
   ],
   "source": [
    "arr = np.random.randint(1, 10, size = [2, 3])\n",
    "print(arr)"
   ]
  },
  {
   "cell_type": "markdown",
   "id": "e4f7a6cb",
   "metadata": {},
   "source": [
    "---\n",
    "### Matrix creation in NumPY\n",
    "Identity Matrix"
   ]
  },
  {
   "cell_type": "code",
   "execution_count": 30,
   "id": "f3e34789",
   "metadata": {},
   "outputs": [
    {
     "name": "stdout",
     "output_type": "stream",
     "text": [
      "[[1 0 0]\n",
      " [0 1 0]\n",
      " [0 0 1]]\n"
     ]
    }
   ],
   "source": [
    "arr = np.eye(3, dtype = np.int64)\n",
    "print(arr)"
   ]
  },
  {
   "cell_type": "markdown",
   "id": "01ade53d",
   "metadata": {},
   "source": [
    "---\n",
    "Diagonal Matrix"
   ]
  },
  {
   "cell_type": "code",
   "execution_count": 31,
   "id": "ad69feac",
   "metadata": {},
   "outputs": [
    {
     "name": "stdout",
     "output_type": "stream",
     "text": [
      "[[1 0 0]\n",
      " [0 2 0]\n",
      " [0 0 3]]\n"
     ]
    }
   ],
   "source": [
    "arr = np.diag([1, 2, 3])\n",
    "print(arr)"
   ]
  },
  {
   "cell_type": "markdown",
   "id": "b8c4d955",
   "metadata": {},
   "source": [
    "---\n",
    "Zero Array"
   ]
  },
  {
   "cell_type": "code",
   "execution_count": 32,
   "id": "d8f1df67",
   "metadata": {},
   "outputs": [
    {
     "name": "stdout",
     "output_type": "stream",
     "text": [
      "[[0 0 0]\n",
      " [0 0 0]\n",
      " [0 0 0]]\n"
     ]
    }
   ],
   "source": [
    "arr = np.zeros_like(arr) # Pass array it will take shape of that\n",
    "print(arr)"
   ]
  },
  {
   "cell_type": "markdown",
   "id": "09d38d8c",
   "metadata": {},
   "source": [
    "---\n",
    "One's Array"
   ]
  },
  {
   "cell_type": "code",
   "execution_count": 33,
   "id": "f58b7710",
   "metadata": {},
   "outputs": [
    {
     "name": "stdout",
     "output_type": "stream",
     "text": [
      "[[1 1 1]\n",
      " [1 1 1]\n",
      " [1 1 1]]\n"
     ]
    }
   ],
   "source": [
    "arr = np.ones_like(arr) # Pass array it will take shape of that\n",
    "print(arr)"
   ]
  },
  {
   "cell_type": "markdown",
   "id": "744b92bb",
   "metadata": {},
   "source": [
    "---\n",
    "### Reshaping Arrays"
   ]
  },
  {
   "cell_type": "code",
   "execution_count": 34,
   "id": "fe58e842",
   "metadata": {},
   "outputs": [
    {
     "name": "stdout",
     "output_type": "stream",
     "text": [
      "[ 1  2  3  4  5  6  7  8  9 10 11 12 13 14 15 16]\n",
      "[[ 1  2  3  4  5  6  7  8]\n",
      " [ 9 10 11 12 13 14 15 16]]\n",
      "[[ 1  2  3  4]\n",
      " [ 5  6  7  8]\n",
      " [ 9 10 11 12]\n",
      " [13 14 15 16]]\n"
     ]
    }
   ],
   "source": [
    "arr = np.array([1, 2, 3, 4, 5, 6, 7, 8, 9, 10, 11, 12, 13, 14, 15, 16])\n",
    "print(str(arr))\n",
    "\n",
    "res = arr.reshape((2, 8))\n",
    "print(res)\n",
    "res = np.reshape(arr, [4, -1])\n",
    "print(res)"
   ]
  },
  {
   "cell_type": "markdown",
   "id": "fb0e5462",
   "metadata": {},
   "source": [
    "---\n",
    "### Resizing Arrays\n",
    "Permanent Array Reshaping"
   ]
  },
  {
   "cell_type": "code",
   "execution_count": 35,
   "id": "456b128f",
   "metadata": {},
   "outputs": [
    {
     "name": "stdout",
     "output_type": "stream",
     "text": [
      "[[1 2 3]\n",
      " [4 5 6]]\n"
     ]
    }
   ],
   "source": [
    "arr = np.array([1, 2, 3, 4, 5, 6])\n",
    "arr.resize(2, 3)\n",
    "print(arr)"
   ]
  },
  {
   "cell_type": "markdown",
   "id": "b2d2caa9",
   "metadata": {},
   "source": [
    "---"
   ]
  }
 ],
 "metadata": {
  "kernelspec": {
   "display_name": ".venv",
   "language": "python",
   "name": "python3"
  },
  "language_info": {
   "codemirror_mode": {
    "name": "ipython",
    "version": 3
   },
   "file_extension": ".py",
   "mimetype": "text/x-python",
   "name": "python",
   "nbconvert_exporter": "python",
   "pygments_lexer": "ipython3",
   "version": "3.13.5"
  }
 },
 "nbformat": 4,
 "nbformat_minor": 5
}
