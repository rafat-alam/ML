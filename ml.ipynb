{
 "cells": [
  {
   "cell_type": "code",
   "execution_count": null,
   "id": "da964435",
   "metadata": {},
   "outputs": [],
   "source": [
    "import numpy as np"
   ]
  },
  {
   "cell_type": "markdown",
   "id": "89a3a426",
   "metadata": {},
   "source": [
    "---\n",
    "\n",
    "## Baiscs of NumPY Arrays"
   ]
  },
  {
   "cell_type": "markdown",
   "id": "51f59bbb",
   "metadata": {},
   "source": [
    "---"
   ]
  },
  {
   "cell_type": "code",
   "execution_count": null,
   "id": "387a1081",
   "metadata": {},
   "outputs": [],
   "source": [
    "arr = np.array([1, 2, 3, 4])\n",
    "print(type(arr))"
   ]
  },
  {
   "cell_type": "markdown",
   "id": "290950a4",
   "metadata": {},
   "source": [
    "---"
   ]
  },
  {
   "cell_type": "code",
   "execution_count": null,
   "id": "9967e61a",
   "metadata": {},
   "outputs": [],
   "source": [
    "arr = np.array([[0, 4, 2],\n",
    "                [3, 4, 5],\n",
    "                [23, 4, 5],\n",
    "                [2, 34, 5],\n",
    "                [5, 6, 7]])\n",
    "\n",
    "print(arr.shape)"
   ]
  },
  {
   "cell_type": "markdown",
   "id": "685b0bad",
   "metadata": {},
   "source": [
    "---"
   ]
  },
  {
   "cell_type": "code",
   "execution_count": null,
   "id": "e7cfb388",
   "metadata": {},
   "outputs": [],
   "source": [
    "arr = np.array([[0, 4, 2]])\n",
    "print(arr.dtype)\n",
    "\n",
    "arr = np.array([0.2, 0.4, 2.4])\n",
    "print(arr.dtype)"
   ]
  },
  {
   "cell_type": "markdown",
   "id": "4eb76c9a",
   "metadata": {},
   "source": [
    "---"
   ]
  },
  {
   "cell_type": "markdown",
   "id": "32069464",
   "metadata": {},
   "source": [
    "## Numpy Array Boardcasting"
   ]
  },
  {
   "cell_type": "markdown",
   "id": "64dcf15c",
   "metadata": {},
   "source": [
    "---\n",
    "Modifying array on basis of conditional statements"
   ]
  },
  {
   "cell_type": "code",
   "execution_count": null,
   "id": "8765a9f9",
   "metadata": {},
   "outputs": [
    {
     "name": "stdout",
     "output_type": "stream",
     "text": [
      "['Minor' 'Adult' 'Adult' 'Adult' 'Adult' 'Adult']\n"
     ]
    }
   ],
   "source": [
    "ages = np.array([12, 24, 35, 45, 60, 72])\n",
    "age_group = np.array([\"Adult\", \"Minor\"])\n",
    "\n",
    "res = np.where(ages >= 18, age_group[0], age_group[1])\n",
    "print(res)"
   ]
  },
  {
   "cell_type": "markdown",
   "id": "854fbe7f",
   "metadata": {},
   "source": [
    "---\n",
    "Multiplying elements column-wise"
   ]
  },
  {
   "cell_type": "code",
   "execution_count": null,
   "id": "384fcb39",
   "metadata": {},
   "outputs": [
    {
     "name": "stdout",
     "output_type": "stream",
     "text": [
      "[[10 40]\n",
      " [30 80]]\n"
     ]
    }
   ],
   "source": [
    "a = np.array([[1, 2], [3, 4]])\n",
    "b = np.array([10, 20])\n",
    "res = a * b\n",
    "\n",
    "print(res)"
   ]
  },
  {
   "cell_type": "markdown",
   "id": "8829c34c",
   "metadata": {},
   "source": [
    "---\n",
    "We are adding numbers row-wise by using np.newasix"
   ]
  },
  {
   "cell_type": "code",
   "execution_count": null,
   "id": "4963ac0c",
   "metadata": {},
   "outputs": [
    {
     "name": "stdout",
     "output_type": "stream",
     "text": [
      "[[31.5 33.5 35.5 34.5 32.5]\n",
      " [24.5 26.5 28.5 27.5 25.5]\n",
      " [22.  24.  26.  25.  23. ]]\n"
     ]
    }
   ],
   "source": [
    "arr1 = np.array([\n",
    "  [30, 32, 34, 33, 31],  \n",
    "  [25, 27, 29, 28, 26], \n",
    "  [20, 22, 24, 23, 21]  \n",
    "])\n",
    "\n",
    "arr2 = np.array([1.5, -0.5, 2.0])\n",
    "\n",
    "res = arr1 + arr2[:, np.newaxis]\n",
    "print(res)\n"
   ]
  }
 ],
 "metadata": {
  "kernelspec": {
   "display_name": ".venv",
   "language": "python",
   "name": "python3"
  },
  "language_info": {
   "codemirror_mode": {
    "name": "ipython",
    "version": 3
   },
   "file_extension": ".py",
   "mimetype": "text/x-python",
   "name": "python",
   "nbconvert_exporter": "python",
   "pygments_lexer": "ipython3",
   "version": "3.13.5"
  }
 },
 "nbformat": 4,
 "nbformat_minor": 5
}
