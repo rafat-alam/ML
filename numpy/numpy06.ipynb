{
 "cells": [
  {
   "cell_type": "markdown",
   "id": "4eb54006",
   "metadata": {},
   "source": [
    "## 06 - Statistics in ML\n",
    "---\n",
    "Importing Modules"
   ]
  },
  {
   "cell_type": "code",
   "execution_count": null,
   "id": "23050dd0",
   "metadata": {},
   "outputs": [],
   "source": [
    "import numpy as np\n",
    "import matplotlib.pyplot as plt\n",
    "from scipy.stats import norm\n",
    "from scipy.stats import binom\n",
    "import seaborn as sns"
   ]
  },
  {
   "cell_type": "markdown",
   "id": "5995b339",
   "metadata": {},
   "source": [
    "---\n",
    "### Random Sampling in NumPY"
   ]
  },
  {
   "cell_type": "code",
   "execution_count": null,
   "id": "23d72d44",
   "metadata": {},
   "outputs": [],
   "source": [
    "res = np.random.randint(low = 0, high = 3, size = [2, 3])\n",
    "print(res)"
   ]
  },
  {
   "cell_type": "markdown",
   "id": "1a98c050",
   "metadata": {},
   "source": [
    "---\n",
    "### Normal Distribution"
   ]
  },
  {
   "cell_type": "code",
   "execution_count": null,
   "id": "8c47eb5e",
   "metadata": {},
   "outputs": [],
   "source": [
    "data = np.random.normal(loc = 0, scale = 1, size = 1000)\n",
    "\n",
    "x = np.linspace(min(data), max(data), 100)\n",
    "plt.hist(data, bins = 30, edgecolor = 'black', density = True)\n",
    "pdf = norm.pdf(x, loc = 0, scale = 1)  \n",
    "plt.plot(x, pdf, color = 'red')\n",
    "plt.title(\"Normal Distribution\")\n",
    "plt.xlabel(\"Value\")\n",
    "plt.ylabel(\"Density\")\n",
    "plt.grid(True)\n",
    "plt.show()"
   ]
  },
  {
   "cell_type": "markdown",
   "id": "c7f6350c",
   "metadata": {},
   "source": [
    "---\n",
    "### Binomial Distribution"
   ]
  },
  {
   "cell_type": "code",
   "execution_count": null,
   "id": "7ad5bb26",
   "metadata": {},
   "outputs": [],
   "source": [
    "n = 10  \n",
    "p = 0.5  \n",
    "size = 1000  \n",
    "\n",
    "data = np.random.binomial(n = n, p = p, size = size)\n",
    "\n",
    "plt.hist(data, bins = np.arange(-0.5, n + 1.5, 1), density = True, edgecolor = 'black', alpha = 0.7, label = 'Histogram')\n",
    "x = np.arange(0, n + 1)  \n",
    "pmf = binom.pmf(x, n = n, p = p)  \n",
    "plt.scatter(x, pmf, color = 'red', label = 'Theoretical PMF')\n",
    "plt.vlines(x, 0, pmf, colors = 'red', linestyles = 'dashed')  \n",
    "plt.title(\"Binomial Distribution (n = 10, p = 0.5)\")\n",
    "plt.xlabel(\"Number of Successes\")\n",
    "plt.ylabel(\"Probability\")\n",
    "plt.legend()\n",
    "plt.grid(True)\n",
    "plt.show()"
   ]
  },
  {
   "cell_type": "markdown",
   "id": "d60ab28e",
   "metadata": {},
   "source": [
    "---\n",
    "### Poission Distribution"
   ]
  },
  {
   "cell_type": "code",
   "execution_count": null,
   "id": "b249618a",
   "metadata": {},
   "outputs": [],
   "source": [
    "lam = 2  \n",
    "size = 1000  \n",
    "\n",
    "data = np.random.poisson(lam = lam, size = size)\n",
    "\n",
    "sns.displot(data, kde = False, bins = np.arange(-0.5, max(data) + 1.5, 1), color = 'skyblue', edgecolor = 'black')\n",
    "plt.title(f\"Poisson Distribution (lamda = {lam})\")\n",
    "plt.xlabel(\"Number of Events\")\n",
    "plt.ylabel(\"Frequency\")\n",
    "plt.grid(True)\n",
    "plt.show()"
   ]
  },
  {
   "cell_type": "markdown",
   "id": "c0bd0b7c",
   "metadata": {},
   "source": [
    "---\n",
    "### Uniform Distribution"
   ]
  },
  {
   "cell_type": "code",
   "execution_count": null,
   "id": "8d8c69a8",
   "metadata": {},
   "outputs": [],
   "source": [
    "low = 10  \n",
    "high = 20  \n",
    "size = 1000  \n",
    "\n",
    "data = np.random.uniform(low = low, high = high, size = size)\n",
    "\n",
    "sns.histplot(data, bins = 30, kde = False, color = 'skyblue', edgecolor = 'black')\n",
    "plt.title(f\"Uniform Distribution (Range: {low} to {high})\")\n",
    "plt.xlabel(\"Value\")\n",
    "plt.ylabel(\"Frequency\")\n",
    "plt.grid(True)\n",
    "plt.show()"
   ]
  },
  {
   "cell_type": "markdown",
   "id": "d895b427",
   "metadata": {},
   "source": [
    "---\n",
    "### Exponential Distribution"
   ]
  },
  {
   "cell_type": "code",
   "execution_count": null,
   "id": "20da82de",
   "metadata": {},
   "outputs": [],
   "source": [
    "scale = 2  \n",
    "size = 1000  \n",
    "\n",
    "data = np.random.exponential(scale = scale, size = size)\n",
    "\n",
    "sns.histplot(data, bins = 30, kde = True, color = 'orange', edgecolor = 'black')\n",
    "plt.title(f\"Exponential Distribution (Scale = {scale})\")\n",
    "plt.xlabel(\"Value\")\n",
    "plt.ylabel(\"Frequency\")\n",
    "plt.grid(True)\n",
    "plt.show()"
   ]
  },
  {
   "cell_type": "markdown",
   "id": "8004e46d",
   "metadata": {},
   "source": [
    "---\n",
    "### Chi-Square Distribution"
   ]
  },
  {
   "cell_type": "code",
   "execution_count": null,
   "id": "14f6826f",
   "metadata": {},
   "outputs": [],
   "source": [
    "df = 1  \n",
    "size = 1000  \n",
    "\n",
    "data = np.random.chisquare(df = df, size = size)\n",
    "\n",
    "sns.displot(data, kind = \"kde\", color = 'purple', label = f'Chi-Square (df = {df})')\n",
    "plt.title(f\"Chi-Square Distribution (df = {df})\")\n",
    "plt.xlabel(\"Value\")\n",
    "plt.ylabel(\"Density\")\n",
    "plt.legend()\n",
    "plt.grid(True)\n",
    "plt.show()"
   ]
  },
  {
   "cell_type": "markdown",
   "id": "86079fdb",
   "metadata": {},
   "source": [
    "---"
   ]
  }
 ],
 "metadata": {
  "kernelspec": {
   "display_name": ".venv",
   "language": "python",
   "name": "python3"
  },
  "language_info": {
   "codemirror_mode": {
    "name": "ipython",
    "version": 3
   },
   "file_extension": ".py",
   "mimetype": "text/x-python",
   "name": "python",
   "nbconvert_exporter": "python",
   "pygments_lexer": "ipython3",
   "version": "3.13.5"
  }
 },
 "nbformat": 4,
 "nbformat_minor": 5
}
