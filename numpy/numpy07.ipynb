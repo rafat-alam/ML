{
 "cells": [
  {
   "cell_type": "markdown",
   "id": "e0dc2eea",
   "metadata": {},
   "source": [
    "## 07 - Sparse Matrix with SciPY\n",
    "---\n",
    "Importing Modules"
   ]
  },
  {
   "cell_type": "code",
   "execution_count": 12,
   "id": "525fd3bb",
   "metadata": {},
   "outputs": [],
   "source": [
    "import numpy as np\n",
    "from scipy.sparse import csr_matrix, csc_matrix, coo_matrix, lil_matrix, dok_matrix, dia_matrix"
   ]
  },
  {
   "cell_type": "markdown",
   "id": "00e10033",
   "metadata": {},
   "source": [
    "---\n",
    "### CSR MATRIX\n",
    "Compressed Sparse Row good for arithmetic and row access."
   ]
  },
  {
   "cell_type": "code",
   "execution_count": 13,
   "id": "25950e44",
   "metadata": {},
   "outputs": [
    {
     "name": "stdout",
     "output_type": "stream",
     "text": [
      "[[0 0 3 0 4]\n",
      " [0 0 5 7 0]\n",
      " [0 0 0 0 0]\n",
      " [0 2 6 0 0]]\n"
     ]
    }
   ],
   "source": [
    "d = np.array([3, 4, 5, 7, 2, 6])     # data\n",
    "r = np.array([0, 0, 1, 1, 3, 3])     # rows\n",
    "c = np.array([2, 4, 2, 3, 1, 2])     # cols\n",
    "\n",
    "csr = csr_matrix((d, (r, c)), shape = [4, 5])\n",
    "print(csr.toarray())"
   ]
  },
  {
   "cell_type": "markdown",
   "id": "800b2a9d",
   "metadata": {},
   "source": [
    "---\n",
    "### CSC MATRIX\n",
    "Compressed Sparse Column efficient for column-based ops."
   ]
  },
  {
   "cell_type": "code",
   "execution_count": 14,
   "id": "e2a1d79e",
   "metadata": {},
   "outputs": [
    {
     "name": "stdout",
     "output_type": "stream",
     "text": [
      "[[0 0 3 0 4]\n",
      " [0 0 5 7 0]\n",
      " [0 0 0 0 0]\n",
      " [0 2 6 0 0]]\n"
     ]
    }
   ],
   "source": [
    "d = np.array([3, 4, 5, 7, 2, 6])     # data\n",
    "r = np.array([0, 0, 1, 1, 3, 3])     # rows\n",
    "c = np.array([2, 4, 2, 3, 1, 2])     # cols\n",
    "\n",
    "csr = csc_matrix((d, (r, c)), shape = [4, 5])\n",
    "print(csr.toarray())"
   ]
  },
  {
   "cell_type": "markdown",
   "id": "2433a1a5",
   "metadata": {},
   "source": [
    "---\n",
    "### COO MATRIX\n",
    "Coordinate format using (row, col, value) triples."
   ]
  },
  {
   "cell_type": "code",
   "execution_count": 15,
   "id": "b4db6e3e",
   "metadata": {},
   "outputs": [
    {
     "name": "stdout",
     "output_type": "stream",
     "text": [
      "[[0 0 3 0 4]\n",
      " [0 0 5 7 0]\n",
      " [0 0 0 0 0]\n",
      " [0 2 6 0 0]]\n"
     ]
    }
   ],
   "source": [
    "d = np.array([3, 4, 5, 7, 2, 6]) # data\n",
    "r = np.array([0, 0, 1, 1, 3, 3]) # rows \n",
    "c = np.array([2, 4, 2, 3, 1, 2]) # cols\n",
    "\n",
    "coo = coo_matrix((d, (r, c)), shape = [4, 5])\n",
    "print(coo.toarray())"
   ]
  },
  {
   "cell_type": "markdown",
   "id": "a6a3a52b",
   "metadata": {},
   "source": [
    "---\n",
    "### LIL MATRIX\n",
    "List of Lists, modify rows easily before converting."
   ]
  },
  {
   "cell_type": "code",
   "execution_count": 16,
   "id": "81a112e0",
   "metadata": {},
   "outputs": [
    {
     "name": "stdout",
     "output_type": "stream",
     "text": [
      "[[0. 0. 3. 0. 4.]\n",
      " [0. 0. 5. 7. 0.]\n",
      " [0. 0. 0. 0. 0.]\n",
      " [0. 2. 6. 0. 0.]]\n"
     ]
    }
   ],
   "source": [
    "lil = lil_matrix((4, 5))\n",
    "lil[0, 2] = 3\n",
    "lil[0, 4] = 4\n",
    "lil[1, 2] = 5\n",
    "lil[1, 3] = 7\n",
    "lil[3, 1] = 2\n",
    "lil[3, 2] = 6\n",
    "\n",
    "print(lil.toarray())"
   ]
  },
  {
   "cell_type": "markdown",
   "id": "7feb1611",
   "metadata": {},
   "source": [
    "---\n",
    "### DOK MATRIX\n",
    "Dictionary-like, ideal for random updates."
   ]
  },
  {
   "cell_type": "code",
   "execution_count": 17,
   "id": "4ead0104",
   "metadata": {},
   "outputs": [
    {
     "name": "stdout",
     "output_type": "stream",
     "text": [
      "[[0. 0. 3. 0. 4.]\n",
      " [0. 0. 5. 7. 0.]\n",
      " [0. 0. 0. 0. 0.]\n",
      " [0. 2. 6. 0. 0.]]\n"
     ]
    }
   ],
   "source": [
    "dok = dok_matrix((4, 5))\n",
    "dok[0, 2] = 3\n",
    "dok[0, 4] = 4\n",
    "dok[1, 2] = 5\n",
    "dok[1, 3] = 7\n",
    "dok[3, 1] = 2\n",
    "dok[3, 2] = 6\n",
    "\n",
    "print(dok.toarray())"
   ]
  },
  {
   "cell_type": "markdown",
   "id": "4c43b448",
   "metadata": {},
   "source": [
    "---\n",
    "### DIA (Diagonal) MATRIX\n",
    "Stores only diagonals, saves space."
   ]
  },
  {
   "cell_type": "code",
   "execution_count": 18,
   "id": "2884872c",
   "metadata": {},
   "outputs": [
    {
     "name": "stdout",
     "output_type": "stream",
     "text": [
      "[[3 0 0 0 0]\n",
      " [0 0 0 0 0]\n",
      " [0 5 0 0 0]\n",
      " [0 0 0 0 0]]\n"
     ]
    }
   ],
   "source": [
    "d = np.array([[3, 0, 0, 0, 0], [0, 5, 0, 0, 0]])\n",
    "offsets = np.array([0, -1])  \n",
    "dia = dia_matrix((d, offsets), shape = [4, 5])\n",
    "\n",
    "print(dia.toarray())"
   ]
  },
  {
   "cell_type": "markdown",
   "id": "ac015369",
   "metadata": {},
   "source": [
    "---"
   ]
  }
 ],
 "metadata": {
  "kernelspec": {
   "display_name": ".venv",
   "language": "python",
   "name": "python3"
  },
  "language_info": {
   "codemirror_mode": {
    "name": "ipython",
    "version": 3
   },
   "file_extension": ".py",
   "mimetype": "text/x-python",
   "name": "python",
   "nbconvert_exporter": "python",
   "pygments_lexer": "ipython3",
   "version": "3.13.5"
  }
 },
 "nbformat": 4,
 "nbformat_minor": 5
}
