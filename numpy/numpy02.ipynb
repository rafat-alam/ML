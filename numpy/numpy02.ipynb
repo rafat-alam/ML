{
 "cells": [
  {
   "cell_type": "markdown",
   "id": "2720f211",
   "metadata": {},
   "source": [
    "## 02 - Stacking and Splitting Arrays\n",
    "---\n",
    "\n",
    "Importing NumPY"
   ]
  },
  {
   "cell_type": "code",
   "execution_count": 38,
   "id": "acbdfe14",
   "metadata": {},
   "outputs": [],
   "source": [
    "import numpy as np"
   ]
  },
  {
   "cell_type": "markdown",
   "id": "627a5ae5",
   "metadata": {},
   "source": [
    "---\n",
    "### Stacking 2 [1-D Arrays]"
   ]
  },
  {
   "cell_type": "code",
   "execution_count": 39,
   "id": "a722115c",
   "metadata": {},
   "outputs": [
    {
     "name": "stdout",
     "output_type": "stream",
     "text": [
      "[[1 2 3]\n",
      " [4 5 6]]\n"
     ]
    }
   ],
   "source": [
    "arr1 = np.array([1, 2, 3])\n",
    "arr2 = np.array([4, 5, 6])\n",
    "\n",
    "res = np.stack((arr1, arr2), axis = 0)\n",
    "print(res)"
   ]
  },
  {
   "cell_type": "code",
   "execution_count": 40,
   "id": "d22709c0",
   "metadata": {},
   "outputs": [
    {
     "name": "stdout",
     "output_type": "stream",
     "text": [
      "[[1 4]\n",
      " [2 5]\n",
      " [3 6]]\n"
     ]
    }
   ],
   "source": [
    "res = np.stack((arr1, arr2), axis = 1)\n",
    "print(res)"
   ]
  },
  {
   "cell_type": "code",
   "execution_count": 41,
   "id": "9737b039",
   "metadata": {},
   "outputs": [
    {
     "name": "stdout",
     "output_type": "stream",
     "text": [
      "[[1 4]\n",
      " [2 5]\n",
      " [3 6]]\n"
     ]
    }
   ],
   "source": [
    "res = np.stack((arr1, arr2), axis = -1) # -1 represents 'last dimension-wise'. Here 2 axis are possible. 0 and 1. So, -1 is same as 1.\n",
    "print(res)"
   ]
  },
  {
   "cell_type": "markdown",
   "id": "259efe22",
   "metadata": {},
   "source": [
    "---\n",
    "### Splitting Arrays in NumPY"
   ]
  },
  {
   "cell_type": "code",
   "execution_count": 42,
   "id": "ac4248f2",
   "metadata": {},
   "outputs": [
    {
     "name": "stdout",
     "output_type": "stream",
     "text": [
      "[array([1, 2, 3]), array([4, 5]), array([6, 7])]\n"
     ]
    }
   ],
   "source": [
    "arr = np.array([1, 2, 3, 4, 5, 6, 7])\n",
    "res = np.array_split(arr, 3)\n",
    "print(res)"
   ]
  },
  {
   "cell_type": "code",
   "execution_count": 43,
   "id": "c3bf0e61",
   "metadata": {},
   "outputs": [
    {
     "name": "stdout",
     "output_type": "stream",
     "text": [
      "[array([[3],\n",
      "       [8],\n",
      "       [4]]), array([[2],\n",
      "       [9],\n",
      "       [6]]), array([[1],\n",
      "       [7],\n",
      "       [5]])]\n"
     ]
    }
   ],
   "source": [
    "arr = np.array([[3, 2, 1], [8, 9, 7], [4, 6, 5]])\n",
    "res = np.split(arr, 3, axis = 1)\n",
    "print(res)"
   ]
  },
  {
   "cell_type": "markdown",
   "id": "95fc7747",
   "metadata": {},
   "source": [
    "---\n",
    "V-Split is for axis = 0"
   ]
  },
  {
   "cell_type": "code",
   "execution_count": 44,
   "id": "65362098",
   "metadata": {},
   "outputs": [
    {
     "name": "stdout",
     "output_type": "stream",
     "text": [
      "[array([[1, 2, 3, 4],\n",
      "       [5, 6, 7, 8]]), array([[ 9, 10, 11, 12],\n",
      "       [13, 14, 15, 16]])]\n",
      "[array([[1, 2, 3, 4],\n",
      "       [5, 6, 7, 8]]), array([[ 9, 10, 11, 12],\n",
      "       [13, 14, 15, 16]])]\n"
     ]
    }
   ],
   "source": [
    "arr = np.array([[1, 2, 3, 4],\n",
    "                [5, 6, 7, 8],\n",
    "                [9, 10, 11, 12],\n",
    "                [13, 14, 15, 16]])\n",
    "\n",
    "res = np.vsplit(arr, 2)\n",
    "print(res)\n",
    "res = np.split(arr, 2, axis = 0)\n",
    "print(res)"
   ]
  },
  {
   "cell_type": "markdown",
   "id": "902053f7",
   "metadata": {},
   "source": [
    "---\n",
    "H-Split is for axis = 1"
   ]
  },
  {
   "cell_type": "code",
   "execution_count": 45,
   "id": "f3fd20f0",
   "metadata": {},
   "outputs": [
    {
     "name": "stdout",
     "output_type": "stream",
     "text": [
      "[array([[ 1,  2],\n",
      "       [ 5,  6],\n",
      "       [ 9, 10],\n",
      "       [13, 14]]), array([[ 3,  4],\n",
      "       [ 7,  8],\n",
      "       [11, 12],\n",
      "       [15, 16]])]\n",
      "[array([[ 1,  2],\n",
      "       [ 5,  6],\n",
      "       [ 9, 10],\n",
      "       [13, 14]]), array([[ 3,  4],\n",
      "       [ 7,  8],\n",
      "       [11, 12],\n",
      "       [15, 16]])]\n"
     ]
    }
   ],
   "source": [
    "res = np.hsplit(arr, 2)\n",
    "print(res)\n",
    "res = np.split(arr, 2, axis = 1)\n",
    "print(res)"
   ]
  },
  {
   "cell_type": "markdown",
   "id": "2fce1a60",
   "metadata": {},
   "source": [
    "---\n",
    "D-Split is for axis = 2"
   ]
  },
  {
   "cell_type": "code",
   "execution_count": 46,
   "id": "27dada14",
   "metadata": {},
   "outputs": [
    {
     "name": "stdout",
     "output_type": "stream",
     "text": [
      "[array([[[ 0,  1],\n",
      "        [ 4,  5],\n",
      "        [ 8,  9]],\n",
      "\n",
      "       [[12, 13],\n",
      "        [16, 17],\n",
      "        [20, 21]]]), array([[[ 2,  3],\n",
      "        [ 6,  7],\n",
      "        [10, 11]],\n",
      "\n",
      "       [[14, 15],\n",
      "        [18, 19],\n",
      "        [22, 23]]])]\n"
     ]
    }
   ],
   "source": [
    "arr = np.array([[[0, 1, 2, 3],\n",
    "                 [4, 5, 6, 7],\n",
    "                 [8, 9, 10, 11]],\n",
    "\n",
    "                [[12, 13, 14, 15],\n",
    "                 [16, 17, 18, 19],\n",
    "                 [20, 21, 22, 23]]])\n",
    "\n",
    "res = np.dsplit(arr, 2)\n",
    "print(res)"
   ]
  },
  {
   "cell_type": "markdown",
   "id": "6908c055",
   "metadata": {},
   "source": [
    "---"
   ]
  }
 ],
 "metadata": {
  "kernelspec": {
   "display_name": ".venv",
   "language": "python",
   "name": "python3"
  },
  "language_info": {
   "codemirror_mode": {
    "name": "ipython",
    "version": 3
   },
   "file_extension": ".py",
   "mimetype": "text/x-python",
   "name": "python",
   "nbconvert_exporter": "python",
   "pygments_lexer": "ipython3",
   "version": "3.13.5"
  }
 },
 "nbformat": 4,
 "nbformat_minor": 5
}
