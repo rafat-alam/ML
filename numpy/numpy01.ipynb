{
 "cells": [
  {
   "cell_type": "markdown",
   "id": "b81bd5c8",
   "metadata": {},
   "source": [
    "## 01 - Introduction To NumPY"
   ]
  },
  {
   "cell_type": "markdown",
   "id": "7b2087ea",
   "metadata": {},
   "source": [
    "---\n",
    "Importing NumPY"
   ]
  },
  {
   "cell_type": "code",
   "execution_count": 37,
   "id": "8217c99f",
   "metadata": {},
   "outputs": [],
   "source": [
    "import numpy as np"
   ]
  },
  {
   "cell_type": "markdown",
   "id": "94989f15",
   "metadata": {},
   "source": [
    "---\n",
    "### Initialization of Array in NumPY\n",
    "From Python Lists"
   ]
  },
  {
   "cell_type": "code",
   "execution_count": 38,
   "id": "30001615",
   "metadata": {},
   "outputs": [
    {
     "name": "stdout",
     "output_type": "stream",
     "text": [
      "[1 2 3]\n"
     ]
    }
   ],
   "source": [
    "arr = np.array([1, 2, 3])\n",
    "print(arr)"
   ]
  },
  {
   "cell_type": "markdown",
   "id": "36010489",
   "metadata": {},
   "source": [
    "---\n",
    "Array with Evenly Spaced Numbers\n",
    "\n",
    "Syntax -> numpy.linspace(start, stop, num = 50, endpoint = True, retstep = False, dtype = None, axis = 0)"
   ]
  },
  {
   "cell_type": "code",
   "execution_count": 39,
   "id": "7d9966b0",
   "metadata": {},
   "outputs": [
    {
     "name": "stdout",
     "output_type": "stream",
     "text": [
      "[ 3.5   6.75 10.  ]\n"
     ]
    }
   ],
   "source": [
    "arr = np.linspace(3.5, 10, 3, dtype = np.float64)\n",
    "print(arr)"
   ]
  },
  {
   "cell_type": "markdown",
   "id": "647cc713",
   "metadata": {},
   "source": [
    "---\n",
    "Array with Garbage Value"
   ]
  },
  {
   "cell_type": "code",
   "execution_count": 40,
   "id": "1c8d7154",
   "metadata": {},
   "outputs": [
    {
     "name": "stdout",
     "output_type": "stream",
     "text": [
      "[[1 3 5]\n",
      " [0 0 0]\n",
      " [2 4 6]\n",
      " [0 0 0]]\n"
     ]
    }
   ],
   "source": [
    "arr = np.empty([4, 3], dtype = np.int32, order = 'f')\n",
    "print(arr)"
   ]
  },
  {
   "cell_type": "markdown",
   "id": "03241c29",
   "metadata": {},
   "source": [
    "---\n",
    "Array with Zeros"
   ]
  },
  {
   "cell_type": "code",
   "execution_count": 41,
   "id": "92d19242",
   "metadata": {},
   "outputs": [
    {
     "name": "stdout",
     "output_type": "stream",
     "text": [
      "[[0 0 0]\n",
      " [0 0 0]]\n"
     ]
    }
   ],
   "source": [
    "arr = np.zeros([2, 3], dtype = np.int32, order = 'f') # [Dimension of Array]\n",
    "print(arr)"
   ]
  },
  {
   "cell_type": "markdown",
   "id": "201b8134",
   "metadata": {},
   "source": [
    "---\n",
    "Array with Ones"
   ]
  },
  {
   "cell_type": "code",
   "execution_count": 42,
   "id": "48a14f3f",
   "metadata": {},
   "outputs": [
    {
     "name": "stdout",
     "output_type": "stream",
     "text": [
      "[[1 1]\n",
      " [1 1]]\n"
     ]
    }
   ],
   "source": [
    "arr = np.ones((2, 2), dtype = np.int32, order = 'f') # [Dimension of Array]\n",
    "print(arr)"
   ]
  },
  {
   "cell_type": "markdown",
   "id": "5e87f274",
   "metadata": {},
   "source": [
    "---\n",
    "Array with All Values Equal"
   ]
  },
  {
   "cell_type": "code",
   "execution_count": 43,
   "id": "fedc00a6",
   "metadata": {},
   "outputs": [
    {
     "name": "stdout",
     "output_type": "stream",
     "text": [
      "[[7 7]\n",
      " [7 7]]\n"
     ]
    }
   ],
   "source": [
    "arr = np.full((2, 2), 7)\n",
    "print(arr)"
   ]
  },
  {
   "cell_type": "markdown",
   "id": "5756931c",
   "metadata": {},
   "source": [
    "---\n",
    "Array with Range Values"
   ]
  },
  {
   "cell_type": "code",
   "execution_count": 44,
   "id": "ad46d95b",
   "metadata": {},
   "outputs": [
    {
     "name": "stdout",
     "output_type": "stream",
     "text": [
      "[0 2 4 6 8]\n"
     ]
    }
   ],
   "source": [
    "arr = np.arange(0, 10, 2, dtype = np.int64) # (start, end, steps), end is excluded\n",
    "print(arr)"
   ]
  },
  {
   "cell_type": "markdown",
   "id": "3627e3b1",
   "metadata": {},
   "source": [
    "---\n",
    "### Indexing in NumPY"
   ]
  },
  {
   "cell_type": "markdown",
   "id": "bba711c4",
   "metadata": {},
   "source": [
    "In 1D Array"
   ]
  },
  {
   "cell_type": "code",
   "execution_count": 45,
   "id": "285b3727",
   "metadata": {},
   "outputs": [
    {
     "name": "stdout",
     "output_type": "stream",
     "text": [
      "30\n",
      "50\n"
     ]
    }
   ],
   "source": [
    "arr = np.array([10, 20, 30, 40, 50])\n",
    "              #  0,  1,  2,  3,  4\n",
    "              # -5, -4, -3, -2, -1\n",
    "print(arr[2])\n",
    "print(arr[-1])"
   ]
  },
  {
   "cell_type": "markdown",
   "id": "26a50c1b",
   "metadata": {},
   "source": [
    "---\n",
    "In 2D Array"
   ]
  },
  {
   "cell_type": "code",
   "execution_count": 46,
   "id": "75cc40db",
   "metadata": {},
   "outputs": [
    {
     "name": "stdout",
     "output_type": "stream",
     "text": [
      "4\n"
     ]
    }
   ],
   "source": [
    "arr = np.array([[1, 2, 3], [4, 5, 6], [7, 8, 9]])\n",
    "print(arr[1, 0]) # [Row, Column]"
   ]
  },
  {
   "cell_type": "markdown",
   "id": "b28cbee0",
   "metadata": {},
   "source": [
    "---"
   ]
  },
  {
   "cell_type": "code",
   "execution_count": 47,
   "id": "4abe7c48",
   "metadata": {},
   "outputs": [
    {
     "name": "stdout",
     "output_type": "stream",
     "text": [
      "[2 5]\n",
      "[[2]\n",
      " [5]]\n",
      "[[2 3]\n",
      " [5 6]]\n"
     ]
    }
   ],
   "source": [
    "arr = np.array([[1, 2, 3], [4, 5, 6]])\n",
    "\n",
    "# all rows, second column\n",
    "print(arr[:, 1])\n",
    "# [2 5]\n",
    "print(arr[:, [1]])\n",
    "# [[2]\n",
    "#  [5]]\n",
    "\n",
    "# all, rows, second and third column\n",
    "print(arr[:, [1, 2]])\n",
    "# [[2 3]\n",
    "#  [5 6]]"
   ]
  },
  {
   "cell_type": "markdown",
   "id": "2e769928",
   "metadata": {},
   "source": [
    "---\n",
    "[start:stop(excluded):steps]"
   ]
  },
  {
   "cell_type": "code",
   "execution_count": 48,
   "id": "9e17d82a",
   "metadata": {},
   "outputs": [
    {
     "name": "stdout",
     "output_type": "stream",
     "text": [
      "[1 3 5]\n"
     ]
    }
   ],
   "source": [
    "arr = np.array([0, 1, 2, 3, 4, 5])\n",
    "print(arr[1:6:2])"
   ]
  },
  {
   "cell_type": "markdown",
   "id": "dcf44ba6",
   "metadata": {},
   "source": [
    "---"
   ]
  },
  {
   "cell_type": "code",
   "execution_count": 49,
   "id": "a71fc8d8",
   "metadata": {},
   "outputs": [
    {
     "name": "stdout",
     "output_type": "stream",
     "text": [
      "[[0.86714978 0.27618055 0.58027235 0.96320792]\n",
      " [0.59663365 0.05518922 0.35365668 0.84440147]\n",
      " [0.3721065  0.62578283 0.37158913 0.76214109]\n",
      " [0.96588863 0.87112971 0.95110154 0.51379705]]\n"
     ]
    }
   ],
   "source": [
    "arr = np.random.rand(4, 4, 4)\n",
    "print(arr[..., 0])"
   ]
  },
  {
   "cell_type": "markdown",
   "id": "14a7e023",
   "metadata": {},
   "source": [
    "---"
   ]
  },
  {
   "cell_type": "code",
   "execution_count": 50,
   "id": "4cd3af1b",
   "metadata": {},
   "outputs": [
    {
     "name": "stdout",
     "output_type": "stream",
     "text": [
      "[2 4 3]\n",
      "[1 2 0 4 5 3]\n"
     ]
    }
   ],
   "source": [
    "arr = np.array([1, 2, 0, 4, 5, 3])\n",
    "\n",
    "idx = np.array([1, 3, 5])\n",
    "print (arr[idx])\n",
    "\n",
    "print (arr[(arr != 0) | (arr == 0)])"
   ]
  },
  {
   "cell_type": "markdown",
   "id": "ad3372ca",
   "metadata": {},
   "source": [
    "---"
   ]
  },
  {
   "cell_type": "code",
   "execution_count": 51,
   "id": "e76a697a",
   "metadata": {},
   "outputs": [
    {
     "name": "stdout",
     "output_type": "stream",
     "text": [
      "[[1]\n",
      " [2]\n",
      " [3]]\n"
     ]
    }
   ],
   "source": [
    "arr = np.array([1, 2, 3])\n",
    "print(arr[:, np.newaxis])"
   ]
  },
  {
   "cell_type": "markdown",
   "id": "b91e8923",
   "metadata": {},
   "source": [
    "---"
   ]
  },
  {
   "cell_type": "code",
   "execution_count": 52,
   "id": "54e53dbc",
   "metadata": {},
   "outputs": [
    {
     "name": "stdout",
     "output_type": "stream",
     "text": [
      "[ 1 99 99  4]\n"
     ]
    }
   ],
   "source": [
    "arr = np.array([1, 2, 3, 4])\n",
    "arr[1:3] = 99\n",
    "print(arr)"
   ]
  },
  {
   "cell_type": "markdown",
   "id": "cd6fb2e7",
   "metadata": {},
   "source": [
    "---\n",
    "### Arithmetic Operations in NumPY Arrays"
   ]
  },
  {
   "cell_type": "code",
   "execution_count": 53,
   "id": "358b5efd",
   "metadata": {},
   "outputs": [
    {
     "name": "stdout",
     "output_type": "stream",
     "text": [
      "[5 7 9]\n",
      "[-3 -3 -3]\n",
      "[ 4 10 18]\n",
      "[0.25 0.4  0.5 ]\n"
     ]
    }
   ],
   "source": [
    "x = np.array([1, 2, 3])\n",
    "y = np.array([4, 5, 6])\n",
    "\n",
    "print(x + y)\n",
    "print(x - y)\n",
    "print(x * y)\n",
    "print(x / y)"
   ]
  },
  {
   "cell_type": "markdown",
   "id": "7ee53f53",
   "metadata": {},
   "source": [
    "---\n",
    "### Absolute in NumPY"
   ]
  },
  {
   "cell_type": "code",
   "execution_count": 54,
   "id": "10a70d87",
   "metadata": {},
   "outputs": [
    {
     "name": "stdout",
     "output_type": "stream",
     "text": [
      "[3 1 0 1 3]\n"
     ]
    }
   ],
   "source": [
    "arr = np.array([-3, -1, 0, 1, 3])\n",
    "res = np.absolute(arr)\n",
    "\n",
    "print(res)"
   ]
  },
  {
   "cell_type": "markdown",
   "id": "7a2af88c",
   "metadata": {},
   "source": [
    "---\n",
    "### Add in Numpy"
   ]
  },
  {
   "cell_type": "code",
   "execution_count": 55,
   "id": "3cb7bc08",
   "metadata": {},
   "outputs": [
    {
     "name": "stdout",
     "output_type": "stream",
     "text": [
      "[5 7 9]\n"
     ]
    }
   ],
   "source": [
    "arr1 = np.array([1, 2, 3])\n",
    "arr2 = np.array([4, 5, 6])\n",
    "res = np.add(arr1, arr2)\n",
    "\n",
    "print(res)"
   ]
  },
  {
   "cell_type": "markdown",
   "id": "2ba50538",
   "metadata": {},
   "source": [
    "---\n",
    "### Exponentiation in NumPY"
   ]
  },
  {
   "cell_type": "code",
   "execution_count": 56,
   "id": "ff270f20",
   "metadata": {},
   "outputs": [
    {
     "name": "stdout",
     "output_type": "stream",
     "text": [
      "[                 25          1934917632        137858491849\n",
      " 1152921504606846976]\n"
     ]
    }
   ],
   "source": [
    "arr1 = np.array([5, 72, 13, 100])\n",
    "arr2 = np.array([2, 5, 10, 30])\n",
    "\n",
    "res = np.power(arr1, arr2)\n",
    "print(res)"
   ]
  },
  {
   "cell_type": "markdown",
   "id": "f8783a36",
   "metadata": {},
   "source": [
    "---\n",
    "### Modulus in NumPY"
   ]
  },
  {
   "cell_type": "code",
   "execution_count": 57,
   "id": "1bdf0156",
   "metadata": {},
   "outputs": [
    {
     "name": "stdout",
     "output_type": "stream",
     "text": [
      "[ 1  2  3 10]\n"
     ]
    }
   ],
   "source": [
    "arr1 = np.array([5, 72, 13, 100])\n",
    "arr2 = np.array([2, 5, 10, 30])\n",
    "\n",
    "res = np.mod(arr1, arr2)\n",
    "print(res)"
   ]
  },
  {
   "cell_type": "markdown",
   "id": "b9509248",
   "metadata": {},
   "source": [
    "---\n",
    "### Sine / Exponential / Square Root in NumPy"
   ]
  },
  {
   "cell_type": "code",
   "execution_count": 58,
   "id": "ca27194a",
   "metadata": {},
   "outputs": [
    {
     "name": "stdout",
     "output_type": "stream",
     "text": [
      "[0.0000000e+00 1.0000000e+00 1.2246468e-16]\n",
      "[ 1.          4.81047738 23.14069263]\n",
      "[0.         1.25331414 1.77245385]\n"
     ]
    }
   ],
   "source": [
    "a = np.array([0, np.pi/2, np.pi])\n",
    "print(np.sin(a))\n",
    "print(np.exp(a))\n",
    "print(np.sqrt(a))"
   ]
  },
  {
   "cell_type": "markdown",
   "id": "78845ad6",
   "metadata": {},
   "source": [
    "---\n",
    "### Sorting NumPY Arrays"
   ]
  },
  {
   "cell_type": "code",
   "execution_count": 59,
   "id": "87c30be3",
   "metadata": {},
   "outputs": [
    {
     "name": "stdout",
     "output_type": "stream",
     "text": [
      "[(b'Aakash', 2009, 9. ) (b'Ajay', 2008, 8.7) (b'Hrithik', 2009, 8.5)\n",
      " (b'Pankaj', 2008, 7.9)]\n",
      "[(b'Pankaj', 2008, 7.9) (b'Ajay', 2008, 8.7) (b'Hrithik', 2009, 8.5)\n",
      " (b'Aakash', 2009, 9. )]\n"
     ]
    }
   ],
   "source": [
    "dtypes = [('name', 'S10'), ('grad_year', int), ('cgpa', float)]\n",
    "\n",
    "values = [('Hrithik', 2009, 8.5), ('Ajay', 2008, 8.7), \n",
    "          ('Pankaj', 2008, 7.9), ('Aakash', 2009, 9.0)]\n",
    "\n",
    "arr = np.array(values, dtype = dtypes)\n",
    "\n",
    "print (np.sort(arr, order = 'name'))\n",
    "print (np.sort(arr, order = ['grad_year', 'cgpa']))"
   ]
  },
  {
   "cell_type": "markdown",
   "id": "327ac44c",
   "metadata": {},
   "source": [
    "---\n",
    "### Type Of NumPY Arrays"
   ]
  },
  {
   "cell_type": "code",
   "execution_count": 60,
   "id": "8ac78df9",
   "metadata": {},
   "outputs": [
    {
     "name": "stdout",
     "output_type": "stream",
     "text": [
      "<class 'numpy.ndarray'>\n"
     ]
    }
   ],
   "source": [
    "arr = np.array([1, 2, 3])\n",
    "print(type(arr))"
   ]
  },
  {
   "cell_type": "markdown",
   "id": "d2845765",
   "metadata": {},
   "source": [
    "---\n",
    "### Shape / Size / DataType of NumPY Arrays"
   ]
  },
  {
   "cell_type": "code",
   "execution_count": 61,
   "id": "696b6ea3",
   "metadata": {},
   "outputs": [
    {
     "name": "stdout",
     "output_type": "stream",
     "text": [
      "Shape : (2, 3)\n",
      "Size : 6\n",
      "D Type : int64\n"
     ]
    }
   ],
   "source": [
    "arr = np.array([[1, 2, 3], [4, 5, 6]])\n",
    "print(\"Shape :\", arr.shape)\n",
    "print(\"Size :\", arr.size)\n",
    "print(\"D Type :\", arr.dtype)"
   ]
  },
  {
   "cell_type": "markdown",
   "id": "2a2a5eb2",
   "metadata": {},
   "source": [
    "---\n",
    "### Formiter in NumPY"
   ]
  },
  {
   "cell_type": "code",
   "execution_count": 62,
   "id": "df64893d",
   "metadata": {},
   "outputs": [
    {
     "name": "stdout",
     "output_type": "stream",
     "text": [
      "['R' 'a' 'f' 'a' 't' 'A' 'l' 'a' 'm']\n"
     ]
    }
   ],
   "source": [
    "var = \"RafatAlam\"\n",
    "arr = np.fromiter(var, dtype = 'U2')\n",
    "\n",
    "print(arr)"
   ]
  },
  {
   "cell_type": "markdown",
   "id": "7a5f26ab",
   "metadata": {},
   "source": [
    "---\n",
    "### Random In NumPY"
   ]
  },
  {
   "cell_type": "markdown",
   "id": "13b4e938",
   "metadata": {},
   "source": [
    "Fills values with random values between [0, 1)"
   ]
  },
  {
   "cell_type": "code",
   "execution_count": 63,
   "id": "8f4a918c",
   "metadata": {},
   "outputs": [
    {
     "name": "stdout",
     "output_type": "stream",
     "text": [
      "[[0.1783931  0.96170809 0.20628133]\n",
      " [0.11441714 0.37252242 0.72725007]]\n"
     ]
    }
   ],
   "source": [
    "arr = np.random.rand(2, 3)\n",
    "print(arr)"
   ]
  },
  {
   "cell_type": "markdown",
   "id": "d053026d",
   "metadata": {},
   "source": [
    "---\n",
    "Fill values with standard Normal Distribution"
   ]
  },
  {
   "cell_type": "code",
   "execution_count": 64,
   "id": "342daa09",
   "metadata": {},
   "outputs": [
    {
     "name": "stdout",
     "output_type": "stream",
     "text": [
      "[[ 1.19111212  0.45825831]\n",
      " [ 0.10448525 -0.3273026 ]]\n"
     ]
    }
   ],
   "source": [
    "arr = np.random.randn(2, 2)\n",
    "print(arr)"
   ]
  },
  {
   "cell_type": "markdown",
   "id": "3f619fbb",
   "metadata": {},
   "source": [
    "---\n",
    "Fills values with random integers between [a, b)"
   ]
  },
  {
   "cell_type": "code",
   "execution_count": 65,
   "id": "0a1bb66a",
   "metadata": {},
   "outputs": [
    {
     "name": "stdout",
     "output_type": "stream",
     "text": [
      "[[5 5 2]\n",
      " [6 4 1]]\n"
     ]
    }
   ],
   "source": [
    "arr = np.random.randint(1, 10, size = [2, 3])\n",
    "print(arr)"
   ]
  },
  {
   "cell_type": "markdown",
   "id": "e4f7a6cb",
   "metadata": {},
   "source": [
    "---\n",
    "### Matrix creation in NumPY\n",
    "Identity Matrix"
   ]
  },
  {
   "cell_type": "code",
   "execution_count": 66,
   "id": "f3e34789",
   "metadata": {},
   "outputs": [
    {
     "name": "stdout",
     "output_type": "stream",
     "text": [
      "[[1 0 0]\n",
      " [0 1 0]\n",
      " [0 0 1]]\n"
     ]
    }
   ],
   "source": [
    "arr = np.eye(3, dtype = np.int64)\n",
    "print(arr)"
   ]
  },
  {
   "cell_type": "markdown",
   "id": "01ade53d",
   "metadata": {},
   "source": [
    "---\n",
    "Diagonal Matrix"
   ]
  },
  {
   "cell_type": "code",
   "execution_count": 67,
   "id": "ad69feac",
   "metadata": {},
   "outputs": [
    {
     "name": "stdout",
     "output_type": "stream",
     "text": [
      "[[1 0 0]\n",
      " [0 2 0]\n",
      " [0 0 3]]\n"
     ]
    }
   ],
   "source": [
    "arr = np.diag([1, 2, 3])\n",
    "print(arr)"
   ]
  },
  {
   "cell_type": "markdown",
   "id": "b8c4d955",
   "metadata": {},
   "source": [
    "---\n",
    "Zero Array"
   ]
  },
  {
   "cell_type": "code",
   "execution_count": 68,
   "id": "d8f1df67",
   "metadata": {},
   "outputs": [
    {
     "name": "stdout",
     "output_type": "stream",
     "text": [
      "[[0 0 0]\n",
      " [0 0 0]\n",
      " [0 0 0]]\n"
     ]
    }
   ],
   "source": [
    "arr = np.zeros_like(arr) # Pass array it will take shape of that\n",
    "print(arr)"
   ]
  },
  {
   "cell_type": "markdown",
   "id": "09d38d8c",
   "metadata": {},
   "source": [
    "---\n",
    "One's Array"
   ]
  },
  {
   "cell_type": "code",
   "execution_count": 69,
   "id": "f58b7710",
   "metadata": {},
   "outputs": [
    {
     "name": "stdout",
     "output_type": "stream",
     "text": [
      "[[1 1 1]\n",
      " [1 1 1]\n",
      " [1 1 1]]\n"
     ]
    }
   ],
   "source": [
    "arr = np.ones_like(arr) # Pass array it will take shape of that\n",
    "print(arr)"
   ]
  },
  {
   "cell_type": "markdown",
   "id": "744b92bb",
   "metadata": {},
   "source": [
    "---\n",
    "### Reshaping Arrays"
   ]
  },
  {
   "cell_type": "code",
   "execution_count": 70,
   "id": "fe58e842",
   "metadata": {},
   "outputs": [
    {
     "name": "stdout",
     "output_type": "stream",
     "text": [
      "[ 1  2  3  4  5  6  7  8  9 10 11 12 13 14 15 16]\n",
      "[[ 1  2  3  4  5  6  7  8]\n",
      " [ 9 10 11 12 13 14 15 16]]\n",
      "[[ 1  2  3  4]\n",
      " [ 5  6  7  8]\n",
      " [ 9 10 11 12]\n",
      " [13 14 15 16]]\n"
     ]
    }
   ],
   "source": [
    "arr = np.array([1, 2, 3, 4, 5, 6, 7, 8, 9, 10, 11, 12, 13, 14, 15, 16])\n",
    "print(str(arr))\n",
    "\n",
    "res = arr.reshape((2, 8))\n",
    "print(res)\n",
    "res = np.reshape(arr, [4, -1])\n",
    "print(res)"
   ]
  },
  {
   "cell_type": "markdown",
   "id": "f8a393ef",
   "metadata": {},
   "source": [
    "---\n",
    "### Flatten vs Ravel"
   ]
  },
  {
   "cell_type": "code",
   "execution_count": 73,
   "id": "2190ce26",
   "metadata": {},
   "outputs": [
    {
     "name": "stdout",
     "output_type": "stream",
     "text": [
      "[ 1  2  3  4  5  6  7  8  9 10 11 12 13 14 15 16]\n",
      "[ 1  2  3  4  5  6  7  8  9 10 11 12 13 14 15 16]\n"
     ]
    }
   ],
   "source": [
    "arr = np.array([[1, 2, 3, 4],\n",
    "                [5, 6, 7, 8],\n",
    "                [9, 10, 11, 12],\n",
    "                [13, 14, 15, 16]])\n",
    "\n",
    "res = arr.flatten() # Creates Copy\n",
    "print(res)\n",
    "print(arr.ravel())  # Not a Copy"
   ]
  },
  {
   "cell_type": "markdown",
   "id": "fb0e5462",
   "metadata": {},
   "source": [
    "---\n",
    "### Resizing Arrays\n",
    "Permanent Array Reshaping"
   ]
  },
  {
   "cell_type": "code",
   "execution_count": 71,
   "id": "456b128f",
   "metadata": {},
   "outputs": [
    {
     "name": "stdout",
     "output_type": "stream",
     "text": [
      "[[1 2 3]\n",
      " [4 5 6]]\n"
     ]
    }
   ],
   "source": [
    "arr = np.array([1, 2, 3, 4, 5, 6])\n",
    "arr.resize(2, 3)\n",
    "print(arr)"
   ]
  },
  {
   "cell_type": "markdown",
   "id": "b2d2caa9",
   "metadata": {},
   "source": [
    "---\n",
    "### Type-casting in NumPY"
   ]
  },
  {
   "cell_type": "code",
   "execution_count": 72,
   "id": "fc5ba523",
   "metadata": {},
   "outputs": [
    {
     "name": "stdout",
     "output_type": "stream",
     "text": [
      "[1 2 3]\n"
     ]
    }
   ],
   "source": [
    "a = np.array([1.1, 2.2, 3.3])\n",
    "a = a.astype(int)\n",
    "\n",
    "print(a)"
   ]
  },
  {
   "cell_type": "markdown",
   "id": "0355ae80",
   "metadata": {},
   "source": [
    "---\n",
    "### Inserting Values in NumPY"
   ]
  },
  {
   "cell_type": "code",
   "execution_count": null,
   "id": "95001158",
   "metadata": {},
   "outputs": [
    {
     "name": "stdout",
     "output_type": "stream",
     "text": [
      "[ 1  2  3 33  4]\n"
     ]
    }
   ],
   "source": [
    "arr = np.array([1, 2, 3, 4])\n",
    "res = np.insert(arr, 3, 33, axis = None)\n",
    "print(res)"
   ]
  },
  {
   "cell_type": "markdown",
   "id": "9feb4b7a",
   "metadata": {},
   "source": [
    "---"
   ]
  },
  {
   "cell_type": "code",
   "execution_count": 79,
   "id": "7cbd8536",
   "metadata": {},
   "outputs": [
    {
     "name": "stdout",
     "output_type": "stream",
     "text": [
      "[[ 1  2  3]\n",
      " [ 4  5  6]\n",
      " [33 33 33]]\n",
      "[[ 1  2 33  3]\n",
      " [ 4  5 44  6]]\n"
     ]
    }
   ],
   "source": [
    "arr = np.array([[1, 2, 3], [4, 5, 6]])\n",
    "\n",
    "res1 = np.insert(arr, 2, 33, axis = 0)\n",
    "print(res1)\n",
    "\n",
    "res2 = np.insert(arr, 2, [33, 44], axis = 1)\n",
    "print(res2)"
   ]
  },
  {
   "cell_type": "markdown",
   "id": "1aaf0c84",
   "metadata": {},
   "source": [
    "---\n",
    "### Deleting Values in NumPY"
   ]
  },
  {
   "cell_type": "code",
   "execution_count": 82,
   "id": "97f2c7a4",
   "metadata": {},
   "outputs": [
    {
     "name": "stdout",
     "output_type": "stream",
     "text": [
      "[1 2 4]\n"
     ]
    }
   ],
   "source": [
    "arr = np.array([1, 2, 3, 4])\n",
    "res = np.delete(arr, 2, axis = None)\n",
    "print(res)"
   ]
  },
  {
   "cell_type": "markdown",
   "id": "d4b26bc3",
   "metadata": {},
   "source": [
    "---\n",
    "### Identify missing values in Data Sets"
   ]
  },
  {
   "cell_type": "code",
   "execution_count": 93,
   "id": "dd6264e0",
   "metadata": {},
   "outputs": [
    {
     "name": "stdout",
     "output_type": "stream",
     "text": [
      "[False False  True False  True]\n",
      "[1. 2. 0. 4. 0.]\n"
     ]
    }
   ],
   "source": [
    "arr = np.array([1, 2, np.nan, 4, np.nan])\n",
    "print(np.isnan(arr))\n",
    "\n",
    "res = np.nan_to_num(arr, nan = 0)\n",
    "print(res)"
   ]
  },
  {
   "cell_type": "markdown",
   "id": "dca2f2a7",
   "metadata": {},
   "source": [
    "---\n",
    "### Identifying Infinite values in Data Set"
   ]
  },
  {
   "cell_type": "code",
   "execution_count": 95,
   "id": "28f4f8ea",
   "metadata": {},
   "outputs": [
    {
     "name": "stdout",
     "output_type": "stream",
     "text": [
      "[False False  True False  True]\n",
      "[1. 2. 0. 4. 0.]\n"
     ]
    }
   ],
   "source": [
    "arr = np.array([1, 2, np.inf, 4, -np.inf])\n",
    "print(np.isinf(arr))\n",
    "\n",
    "res = np.nan_to_num(arr, posinf = 0, neginf = 0)\n",
    "print(res)"
   ]
  },
  {
   "cell_type": "markdown",
   "id": "6223f051",
   "metadata": {},
   "source": [
    "---"
   ]
  }
 ],
 "metadata": {
  "kernelspec": {
   "display_name": ".venv",
   "language": "python",
   "name": "python3"
  },
  "language_info": {
   "codemirror_mode": {
    "name": "ipython",
    "version": 3
   },
   "file_extension": ".py",
   "mimetype": "text/x-python",
   "name": "python",
   "nbconvert_exporter": "python",
   "pygments_lexer": "ipython3",
   "version": "3.13.5"
  }
 },
 "nbformat": 4,
 "nbformat_minor": 5
}
