{
 "cells": [
  {
   "cell_type": "markdown",
   "id": "473586d5",
   "metadata": {},
   "source": [
    "## 04 - Aggregation / Universal Functions\n",
    "---\n",
    "Importing NumPY"
   ]
  },
  {
   "cell_type": "code",
   "execution_count": 22,
   "id": "df091a60",
   "metadata": {},
   "outputs": [],
   "source": [
    "import numpy as np"
   ]
  },
  {
   "cell_type": "markdown",
   "id": "124a5468",
   "metadata": {},
   "source": [
    "---\n",
    "## Sum in NumPY"
   ]
  },
  {
   "cell_type": "code",
   "execution_count": 23,
   "id": "c77e03e2",
   "metadata": {},
   "outputs": [
    {
     "name": "stdout",
     "output_type": "stream",
     "text": [
      "Sum : 36.2\n",
      "Data Type : float64\n",
      "Sum (int32) : 36\n"
     ]
    }
   ],
   "source": [
    "arr = [20, 2, .2, 10, 4] \n",
    "\n",
    "print(\"Sum :\", np.sum(arr))\n",
    "print(\"Data Type :\", np.sum(arr).dtype)\n",
    "\n",
    "print(\"Sum (int32) :\", np.sum(arr, dtype = np.int32))"
   ]
  },
  {
   "cell_type": "markdown",
   "id": "48ef6004",
   "metadata": {},
   "source": [
    "---"
   ]
  },
  {
   "cell_type": "code",
   "execution_count": 24,
   "id": "fc075a7b",
   "metadata": {},
   "outputs": [
    {
     "name": "stdout",
     "output_type": "stream",
     "text": [
      "Sum : 279\n",
      "Data Type : int64\n"
     ]
    }
   ],
   "source": [
    "arr = [[14, 17, 12, 33, 44],\n",
    "\t     [15, 6, 27, 8, 19],\n",
    "\t     [23, 2, 54, 1, 4,]]\n",
    "\n",
    "print(\"Sum :\", np.sum(arr))\n",
    "print(\"Data Type :\", np.sum(arr).dtype)"
   ]
  },
  {
   "cell_type": "markdown",
   "id": "12e564ed",
   "metadata": {},
   "source": [
    "---"
   ]
  },
  {
   "cell_type": "code",
   "execution_count": 25,
   "id": "39f0f832",
   "metadata": {},
   "outputs": [
    {
     "name": "stdout",
     "output_type": "stream",
     "text": [
      "[52 25 93 42 67]\n",
      "[120  75  84]\n",
      "[[120]\n",
      " [ 75]\n",
      " [ 84]]\n"
     ]
    }
   ],
   "source": [
    "arr = [[14, 17, 12, 33, 44],\n",
    "\t     [15, 6, 27, 8, 19],\n",
    "\t     [23, 2, 54, 1, 4,]]\n",
    "\n",
    "print(np.sum(arr, axis = 0))\n",
    "print(np.sum(arr, axis = 1))\n",
    "print(np.sum(arr, axis = 1, keepdims = True))"
   ]
  },
  {
   "cell_type": "markdown",
   "id": "9a237273",
   "metadata": {},
   "source": [
    "---\n",
    "### Mean in NumPY"
   ]
  },
  {
   "cell_type": "code",
   "execution_count": 26,
   "id": "dbe2d13d",
   "metadata": {},
   "outputs": [
    {
     "name": "stdout",
     "output_type": "stream",
     "text": [
      "12.8\n"
     ]
    }
   ],
   "source": [
    "arr = [20, 2, 7, 1, 34]\n",
    "print(np.mean(arr))"
   ]
  },
  {
   "cell_type": "markdown",
   "id": "d41d530f",
   "metadata": {},
   "source": [
    "---"
   ]
  },
  {
   "cell_type": "code",
   "execution_count": 27,
   "id": "979970e2",
   "metadata": {},
   "outputs": [
    {
     "name": "stdout",
     "output_type": "stream",
     "text": [
      "18.6\n",
      "[17.33333333  8.33333333 31.         14.         22.33333333]\n",
      "[24.  15.  16.8]\n"
     ]
    }
   ],
   "source": [
    "arr = [[14, 17, 12, 33, 44],  \n",
    "       [15, 6, 27, 8, 19], \n",
    "       [23, 2, 54, 1, 4]]\n",
    "\n",
    "print(np.mean(arr))\n",
    "print(np.mean(arr, axis = 0))\n",
    "print(np.mean(arr, axis = 1))"
   ]
  },
  {
   "cell_type": "markdown",
   "id": "bcf51737",
   "metadata": {},
   "source": [
    "---\n",
    "### Max / Min in NumPY"
   ]
  },
  {
   "cell_type": "code",
   "execution_count": 28,
   "id": "b5f9643e",
   "metadata": {},
   "outputs": [
    {
     "name": "stdout",
     "output_type": "stream",
     "text": [
      "21\n",
      "11\n"
     ]
    }
   ],
   "source": [
    "num1 = 11\n",
    "num2 = 21\n",
    "\n",
    "res = np.maximum(num1, num2)\n",
    "print(res)\n",
    "res = np.minimum(num1, num2)\n",
    "print(res)"
   ]
  },
  {
   "cell_type": "markdown",
   "id": "8eda1a43",
   "metadata": {},
   "source": [
    "---"
   ]
  },
  {
   "cell_type": "code",
   "execution_count": 29,
   "id": "105530ad",
   "metadata": {},
   "outputs": [
    {
     "name": "stdout",
     "output_type": "stream",
     "text": [
      "[  3   8 125]\n",
      "[ 2  3 15]\n"
     ]
    }
   ],
   "source": [
    "num1 = [2, 8, 125]\n",
    "num2 = [3, 3, 15]\n",
    "\n",
    "res = np.maximum(num1, num2)\n",
    "print(res)\n",
    "res = np.minimum(num1, num2)\n",
    "print(res)"
   ]
  },
  {
   "cell_type": "markdown",
   "id": "6fe646a4",
   "metadata": {},
   "source": [
    "---"
   ]
  },
  {
   "cell_type": "code",
   "execution_count": 30,
   "id": "91862ab0",
   "metadata": {},
   "outputs": [
    {
     "name": "stdout",
     "output_type": "stream",
     "text": [
      "[nan nan nan]\n",
      "[nan nan nan]\n"
     ]
    }
   ],
   "source": [
    "num1 = [np.nan, 0, np.nan]\n",
    "num2 = [np.nan, np.nan, 0]\n",
    "\n",
    "res = np.maximum(num1, num2)\n",
    "print(res)\n",
    "res = np.minimum(num1, num2)\n",
    "print(res)"
   ]
  },
  {
   "cell_type": "markdown",
   "id": "75fff7a0",
   "metadata": {},
   "source": [
    "---\n",
    "### Trignometric Functions"
   ]
  },
  {
   "cell_type": "code",
   "execution_count": 39,
   "id": "e77bf1c0",
   "metadata": {},
   "outputs": [
    {
     "name": "stdout",
     "output_type": "stream",
     "text": [
      "[0.00000000e+00 5.00000000e-01 7.07106781e-01 8.66025404e-01\n",
      " 1.00000000e+00 1.22464680e-16]\n",
      "[0.0000000e+00 3.0000000e+01 4.5000000e+01 6.0000000e+01 9.0000000e+01\n",
      " 7.0167093e-15]\n",
      "[ 0.          0.54785347  0.86867096  1.24936705  2.3012989  11.54873936]\n",
      "[ 0.          0.52085606  0.76347126  0.94878485  0.74483916 -0.85086591]\n",
      "5.0\n"
     ]
    }
   ],
   "source": [
    "angles = np.array([0, 30, 45, 60, 90, 180]) \n",
    "\n",
    "radians = np.deg2rad(angles)\n",
    "\n",
    "# sine of angles\n",
    "sine = np.sin(radians)\n",
    "print(np.sin(radians))\n",
    "\n",
    "# inverse sine of sine values\n",
    "print(np.rad2deg(np.arcsin(sine)))\n",
    "\n",
    "# hyperbolic sine of angles\n",
    "sineh = np.sinh(radians)\n",
    "print(np.sinh(radians))\n",
    "\n",
    "# inverse sine hyperbolic \n",
    "print(np.sin(sineh)) \n",
    "\n",
    "# hypotenuse\n",
    "print(np.hypot(3, 4))"
   ]
  },
  {
   "cell_type": "markdown",
   "id": "8999841d",
   "metadata": {},
   "source": [
    "---\n",
    "### Statical Functions"
   ]
  },
  {
   "cell_type": "code",
   "execution_count": 36,
   "id": "26d019cc",
   "metadata": {},
   "outputs": [
    {
     "name": "stdout",
     "output_type": "stream",
     "text": [
      "45.0 73.25\n",
      "28.25\n",
      "55.317\n",
      "54.3225\n",
      "51.6\n",
      "8.052773978574091\n",
      "64.84716875\n",
      "54.3225\n"
     ]
    }
   ],
   "source": [
    "arr = np.array([50.7, 52.5, 50, 58, 55.63, 73.25, 49.5, 45])\n",
    "\n",
    "# minimum and maximum \n",
    "print(np.amin(arr), np.amax(arr))\n",
    "\n",
    "# range of arr i.e. max - min\n",
    "print(np.ptp(arr))\n",
    "\n",
    "# percentile -> Value below which 70 % student fall\n",
    "print(np.percentile(arr, 70))\n",
    " \n",
    "# mean \n",
    "print(np.mean(arr))\n",
    "\n",
    "# median \n",
    "print(np.median(arr))\n",
    "\n",
    "# standard deviation \n",
    "print(np.std(arr))\n",
    "\n",
    "# variance \n",
    "print(np.var(arr))\n",
    "\n",
    "# average \n",
    "print(np.average(arr))"
   ]
  },
  {
   "cell_type": "markdown",
   "id": "986752fc",
   "metadata": {},
   "source": [
    "---\n",
    "### Bit-twiddling Functions"
   ]
  },
  {
   "cell_type": "code",
   "execution_count": 37,
   "id": "0bcaa604",
   "metadata": {},
   "outputs": [
    {
     "name": "stdout",
     "output_type": "stream",
     "text": [
      "[ 0  2  4  6  8 16 32]\n",
      "[ 1  3  5  7  9 17 33]\n",
      "[1 1 1 1 1 1 1]\n",
      "[ -1  -3  -5  -7  -9 -17 -33]\n",
      "[ 0  4  8 12 16 32 64]\n",
      "[ 0  1  2  3  4  8 16]\n"
     ]
    }
   ],
   "source": [
    "even = np.array([0, 2, 4, 6, 8, 16, 32])\n",
    "odd = np.array([1, 3, 5, 7, 9, 17, 33])\n",
    "\n",
    "# bitwise_and\n",
    "print(np.bitwise_and(even, odd))\n",
    "\n",
    "# bitwise_or\n",
    "print(np.bitwise_or(even, odd))\n",
    "\n",
    "# bitwise_xor\n",
    "print(np.bitwise_xor(even, odd))\n",
    " \n",
    "# invert or not\n",
    "print(np.invert(even))\n",
    "\n",
    "# left_shift \n",
    "print(np.left_shift(even, 1))\n",
    "\n",
    "# right_shift \n",
    "print(np.right_shift(even, 1))"
   ]
  },
  {
   "cell_type": "markdown",
   "id": "b04e3bb3",
   "metadata": {},
   "source": [
    "---"
   ]
  }
 ],
 "metadata": {
  "kernelspec": {
   "display_name": ".venv",
   "language": "python",
   "name": "python3"
  },
  "language_info": {
   "codemirror_mode": {
    "name": "ipython",
    "version": 3
   },
   "file_extension": ".py",
   "mimetype": "text/x-python",
   "name": "python",
   "nbconvert_exporter": "python",
   "pygments_lexer": "ipython3",
   "version": "3.13.5"
  }
 },
 "nbformat": 4,
 "nbformat_minor": 5
}
